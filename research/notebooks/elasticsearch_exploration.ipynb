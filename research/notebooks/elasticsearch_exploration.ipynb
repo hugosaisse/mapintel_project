{
 "cells": [
  {
   "cell_type": "markdown",
   "source": [
    "# Description:\n",
    "In this notebook we explore the ODFE instance where we keep our news documents."
   ],
   "metadata": {}
  },
  {
   "cell_type": "code",
   "execution_count": 1,
   "source": [
    "from datetime import datetime\n",
    "import pandas as pd\n",
    "\n",
    "from elasticsearch import Elasticsearch\n",
    "\n",
    "from bokeh.plotting import figure, show\n",
    "from bokeh.models import HoverTool\n",
    "from bokeh.io import output_notebook\n",
    "output_notebook()\n",
    "\n",
    "import warnings\n",
    "warnings.filterwarnings('ignore')"
   ],
   "outputs": [
    {
     "output_type": "display_data",
     "data": {
      "text/html": [
       "\n",
       "    <div class=\"bk-root\">\n",
       "        <a href=\"https://bokeh.org\" target=\"_blank\" class=\"bk-logo bk-logo-small bk-logo-notebook\"></a>\n",
       "        <span id=\"1001\">Loading BokehJS ...</span>\n",
       "    </div>"
      ]
     },
     "metadata": {}
    },
    {
     "output_type": "display_data",
     "data": {
      "application/javascript": "\n(function(root) {\n  function now() {\n    return new Date();\n  }\n\n  var force = true;\n\n  if (typeof root._bokeh_onload_callbacks === \"undefined\" || force === true) {\n    root._bokeh_onload_callbacks = [];\n    root._bokeh_is_loading = undefined;\n  }\n\n  var JS_MIME_TYPE = 'application/javascript';\n  var HTML_MIME_TYPE = 'text/html';\n  var EXEC_MIME_TYPE = 'application/vnd.bokehjs_exec.v0+json';\n  var CLASS_NAME = 'output_bokeh rendered_html';\n\n  /**\n   * Render data to the DOM node\n   */\n  function render(props, node) {\n    var script = document.createElement(\"script\");\n    node.appendChild(script);\n  }\n\n  /**\n   * Handle when an output is cleared or removed\n   */\n  function handleClearOutput(event, handle) {\n    var cell = handle.cell;\n\n    var id = cell.output_area._bokeh_element_id;\n    var server_id = cell.output_area._bokeh_server_id;\n    // Clean up Bokeh references\n    if (id != null && id in Bokeh.index) {\n      Bokeh.index[id].model.document.clear();\n      delete Bokeh.index[id];\n    }\n\n    if (server_id !== undefined) {\n      // Clean up Bokeh references\n      var cmd = \"from bokeh.io.state import curstate; print(curstate().uuid_to_server['\" + server_id + \"'].get_sessions()[0].document.roots[0]._id)\";\n      cell.notebook.kernel.execute(cmd, {\n        iopub: {\n          output: function(msg) {\n            var id = msg.content.text.trim();\n            if (id in Bokeh.index) {\n              Bokeh.index[id].model.document.clear();\n              delete Bokeh.index[id];\n            }\n          }\n        }\n      });\n      // Destroy server and session\n      var cmd = \"import bokeh.io.notebook as ion; ion.destroy_server('\" + server_id + \"')\";\n      cell.notebook.kernel.execute(cmd);\n    }\n  }\n\n  /**\n   * Handle when a new output is added\n   */\n  function handleAddOutput(event, handle) {\n    var output_area = handle.output_area;\n    var output = handle.output;\n\n    // limit handleAddOutput to display_data with EXEC_MIME_TYPE content only\n    if ((output.output_type != \"display_data\") || (!output.data.hasOwnProperty(EXEC_MIME_TYPE))) {\n      return\n    }\n\n    var toinsert = output_area.element.find(\".\" + CLASS_NAME.split(' ')[0]);\n\n    if (output.metadata[EXEC_MIME_TYPE][\"id\"] !== undefined) {\n      toinsert[toinsert.length - 1].firstChild.textContent = output.data[JS_MIME_TYPE];\n      // store reference to embed id on output_area\n      output_area._bokeh_element_id = output.metadata[EXEC_MIME_TYPE][\"id\"];\n    }\n    if (output.metadata[EXEC_MIME_TYPE][\"server_id\"] !== undefined) {\n      var bk_div = document.createElement(\"div\");\n      bk_div.innerHTML = output.data[HTML_MIME_TYPE];\n      var script_attrs = bk_div.children[0].attributes;\n      for (var i = 0; i < script_attrs.length; i++) {\n        toinsert[toinsert.length - 1].firstChild.setAttribute(script_attrs[i].name, script_attrs[i].value);\n        toinsert[toinsert.length - 1].firstChild.textContent = bk_div.children[0].textContent\n      }\n      // store reference to server id on output_area\n      output_area._bokeh_server_id = output.metadata[EXEC_MIME_TYPE][\"server_id\"];\n    }\n  }\n\n  function register_renderer(events, OutputArea) {\n\n    function append_mime(data, metadata, element) {\n      // create a DOM node to render to\n      var toinsert = this.create_output_subarea(\n        metadata,\n        CLASS_NAME,\n        EXEC_MIME_TYPE\n      );\n      this.keyboard_manager.register_events(toinsert);\n      // Render to node\n      var props = {data: data, metadata: metadata[EXEC_MIME_TYPE]};\n      render(props, toinsert[toinsert.length - 1]);\n      element.append(toinsert);\n      return toinsert\n    }\n\n    /* Handle when an output is cleared or removed */\n    events.on('clear_output.CodeCell', handleClearOutput);\n    events.on('delete.Cell', handleClearOutput);\n\n    /* Handle when a new output is added */\n    events.on('output_added.OutputArea', handleAddOutput);\n\n    /**\n     * Register the mime type and append_mime function with output_area\n     */\n    OutputArea.prototype.register_mime_type(EXEC_MIME_TYPE, append_mime, {\n      /* Is output safe? */\n      safe: true,\n      /* Index of renderer in `output_area.display_order` */\n      index: 0\n    });\n  }\n\n  // register the mime type if in Jupyter Notebook environment and previously unregistered\n  if (root.Jupyter !== undefined) {\n    var events = require('base/js/events');\n    var OutputArea = require('notebook/js/outputarea').OutputArea;\n\n    if (OutputArea.prototype.mime_types().indexOf(EXEC_MIME_TYPE) == -1) {\n      register_renderer(events, OutputArea);\n    }\n  }\n\n  \n  if (typeof (root._bokeh_timeout) === \"undefined\" || force === true) {\n    root._bokeh_timeout = Date.now() + 5000;\n    root._bokeh_failed_load = false;\n  }\n\n  var NB_LOAD_WARNING = {'data': {'text/html':\n     \"<div style='background-color: #fdd'>\\n\"+\n     \"<p>\\n\"+\n     \"BokehJS does not appear to have successfully loaded. If loading BokehJS from CDN, this \\n\"+\n     \"may be due to a slow or bad network connection. Possible fixes:\\n\"+\n     \"</p>\\n\"+\n     \"<ul>\\n\"+\n     \"<li>re-rerun `output_notebook()` to attempt to load from CDN again, or</li>\\n\"+\n     \"<li>use INLINE resources instead, as so:</li>\\n\"+\n     \"</ul>\\n\"+\n     \"<code>\\n\"+\n     \"from bokeh.resources import INLINE\\n\"+\n     \"output_notebook(resources=INLINE)\\n\"+\n     \"</code>\\n\"+\n     \"</div>\"}};\n\n  function display_loaded() {\n    var el = document.getElementById(\"1001\");\n    if (el != null) {\n      el.textContent = \"BokehJS is loading...\";\n    }\n    if (root.Bokeh !== undefined) {\n      if (el != null) {\n        el.textContent = \"BokehJS \" + root.Bokeh.version + \" successfully loaded.\";\n      }\n    } else if (Date.now() < root._bokeh_timeout) {\n      setTimeout(display_loaded, 100)\n    }\n  }\n\n\n  function run_callbacks() {\n    try {\n      root._bokeh_onload_callbacks.forEach(function(callback) {\n        if (callback != null)\n          callback();\n      });\n    } finally {\n      delete root._bokeh_onload_callbacks\n    }\n    console.debug(\"Bokeh: all callbacks have finished\");\n  }\n\n  function load_libs(css_urls, js_urls, callback) {\n    if (css_urls == null) css_urls = [];\n    if (js_urls == null) js_urls = [];\n\n    root._bokeh_onload_callbacks.push(callback);\n    if (root._bokeh_is_loading > 0) {\n      console.debug(\"Bokeh: BokehJS is being loaded, scheduling callback at\", now());\n      return null;\n    }\n    if (js_urls == null || js_urls.length === 0) {\n      run_callbacks();\n      return null;\n    }\n    console.debug(\"Bokeh: BokehJS not loaded, scheduling load and callback at\", now());\n    root._bokeh_is_loading = css_urls.length + js_urls.length;\n\n    function on_load() {\n      root._bokeh_is_loading--;\n      if (root._bokeh_is_loading === 0) {\n        console.debug(\"Bokeh: all BokehJS libraries/stylesheets loaded\");\n        run_callbacks()\n      }\n    }\n\n    function on_error() {\n      console.error(\"failed to load \" + url);\n    }\n\n    for (var i = 0; i < css_urls.length; i++) {\n      var url = css_urls[i];\n      const element = document.createElement(\"link\");\n      element.onload = on_load;\n      element.onerror = on_error;\n      element.rel = \"stylesheet\";\n      element.type = \"text/css\";\n      element.href = url;\n      console.debug(\"Bokeh: injecting link tag for BokehJS stylesheet: \", url);\n      document.body.appendChild(element);\n    }\n\n    for (var i = 0; i < js_urls.length; i++) {\n      var url = js_urls[i];\n      var element = document.createElement('script');\n      element.onload = on_load;\n      element.onerror = on_error;\n      element.async = false;\n      element.src = url;\n      \n      console.debug(\"Bokeh: injecting script tag for BokehJS library: \", url);\n      document.head.appendChild(element);\n    }\n  };var element = document.getElementById(\"1001\");\n  if (element == null) {\n    console.error(\"Bokeh: ERROR: autoload.js configured with elementid '1001' but no matching script tag was found. \")\n    return false;\n  }\n\n  function inject_raw_css(css) {\n    const element = document.createElement(\"style\");\n    element.appendChild(document.createTextNode(css));\n    document.body.appendChild(element);\n  }\n\n  \n  var js_urls = [\"https://cdn.bokeh.org/bokeh/release/bokeh-2.0.0.min.js\", \"https://cdn.bokeh.org/bokeh/release/bokeh-widgets-2.0.0.min.js\", \"https://cdn.bokeh.org/bokeh/release/bokeh-tables-2.0.0.min.js\", \"https://cdn.bokeh.org/bokeh/release/bokeh-gl-2.0.0.min.js\"];\n  var css_urls = [];\n  \n\n  var inline_js = [\n    function(Bokeh) {\n      Bokeh.set_log_level(\"info\");\n    },\n    function(Bokeh) {\n    \n    \n    }\n  ];\n\n  function run_inline_js() {\n    \n    if (root.Bokeh !== undefined || force === true) {\n      \n    for (var i = 0; i < inline_js.length; i++) {\n      inline_js[i].call(root, root.Bokeh);\n    }\n    if (force === true) {\n        display_loaded();\n      }} else if (Date.now() < root._bokeh_timeout) {\n      setTimeout(run_inline_js, 100);\n    } else if (!root._bokeh_failed_load) {\n      console.log(\"Bokeh: BokehJS failed to load within specified timeout.\");\n      root._bokeh_failed_load = true;\n    } else if (force !== true) {\n      var cell = $(document.getElementById(\"1001\")).parents('.cell').data().cell;\n      cell.output_area.append_execute_result(NB_LOAD_WARNING)\n    }\n\n  }\n\n  if (root._bokeh_is_loading === 0) {\n    console.debug(\"Bokeh: BokehJS loaded, going straight to plotting\");\n    run_inline_js();\n  } else {\n    load_libs(css_urls, js_urls, function() {\n      console.debug(\"Bokeh: BokehJS plotting callback run at\", now());\n      run_inline_js();\n    });\n  }\n}(window));",
      "application/vnd.bokehjs_load.v0+json": ""
     },
     "metadata": {}
    }
   ],
   "metadata": {}
  },
  {
   "cell_type": "code",
   "execution_count": 2,
   "source": [
    "def compact_doc(doc):\n",
    "    \"\"\"Compacts the documents displayed in the notebook\n",
    "    \"\"\"\n",
    "    doc['embedding'] = doc['embedding'][:3]\n",
    "    doc['embedding'].append(\"...\")\n",
    "    return doc"
   ],
   "outputs": [],
   "metadata": {}
  },
  {
   "cell_type": "code",
   "execution_count": 3,
   "source": [
    "# Connecting to Elasticsearch\n",
    "es = Elasticsearch(\n",
    "    hosts=['odfe-node1', '0.0.0.0'],\n",
    "    http_auth=('admin', 'admin'),\n",
    "    scheme=\"https\",\n",
    "    verify_certs=False\n",
    ")"
   ],
   "outputs": [],
   "metadata": {}
  },
  {
   "cell_type": "markdown",
   "source": [
    "# Exploratory Data Analysis of document collection"
   ],
   "metadata": {}
  },
  {
   "cell_type": "markdown",
   "source": [
    "## Indices\n",
    "The document store is composed of indices. These indices in turn hold documents."
   ],
   "metadata": {}
  },
  {
   "cell_type": "code",
   "execution_count": 4,
   "source": [
    "# List indices\n",
    "es.indices.get_alias(\"*\")"
   ],
   "outputs": [
    {
     "output_type": "execute_result",
     "data": {
      "text/plain": [
       "{'security-auditlog-2021.09.05': {'aliases': {}},\n",
       " 'label': {'aliases': {}},\n",
       " '.opendistro_security': {'aliases': {}},\n",
       " 'document': {'aliases': {}}}"
      ]
     },
     "metadata": {},
     "execution_count": 4
    }
   ],
   "metadata": {}
  },
  {
   "cell_type": "markdown",
   "source": [
    "## Documents\n",
    "\n",
    "How many documents do we have in the document index?"
   ],
   "metadata": {}
  },
  {
   "cell_type": "code",
   "execution_count": 5,
   "source": [
    "# How many documents does the 'document' collection hold?\n",
    "es.indices.refresh('document')\n",
    "count = es.cat.count('document', params={\"format\": \"json\"})[0]['count']\n",
    "print(f\"There are {count} documents in the index 'document'\")"
   ],
   "outputs": [
    {
     "output_type": "stream",
     "name": "stdout",
     "text": [
      "There are 334925 documents in the index 'document'\n"
     ]
    }
   ],
   "metadata": {}
  },
  {
   "cell_type": "markdown",
   "source": [
    "## Topic label\n",
    "\n",
    "Each document has a topic. What is the frequency of each topic?"
   ],
   "metadata": {}
  },
  {
   "cell_type": "code",
   "execution_count": 6,
   "source": [
    "# Get counts of topic_labels\n",
    "result = es.search(\n",
    "    {\n",
    "        \"size\": 0,\n",
    "         \"aggs\": {\n",
    "             \"group_by_topic\": {\n",
    "                 \"terms\": {\n",
    "                     \"field\": \"topic_label\",\n",
    "                     \"size\": 21\n",
    "                 }\n",
    "             }\n",
    "         }\n",
    "    },\n",
    "    index=\"document\"\n",
    ")['aggregations']['group_by_topic']['buckets']\n",
    "counts = dict(list(map(lambda x: list(x.values()), result)))\n",
    "counts"
   ],
   "outputs": [
    {
     "output_type": "execute_result",
     "data": {
      "text/plain": [
       "{'-1_covid_19_covid 19_coronavirus': 156885,\n",
       " '1_new_netflix_series_movie': 21888,\n",
       " '0_nfl_football_team_coach': 18280,\n",
       " '3_vaccine_covid_covid 19_19 vaccine': 15770,\n",
       " '2_trump_president_election_donald trump': 14538,\n",
       " '5_mlb_mets_baseball_dodgers': 13645,\n",
       " '4_nba_lakers_trade_warriors': 9135,\n",
       " '6_stocks_stock_deals_market': 8909,\n",
       " '7_galaxy_nasa_samsung_spacex': 7932,\n",
       " '11_juventus_champions_champions league_roma': 7478,\n",
       " '9_tesla_electric_airpods_car': 7254,\n",
       " '8_entire post_view entire_app_johnson': 7177,\n",
       " '10_biden_president_joe_joe biden': 7012,\n",
       " '12_game_warzone_black ops_destiny': 6054,\n",
       " '14_apple_iphone_rtx_pro': 5290,\n",
       " '15_covid_covid 19_county_deaths': 5266,\n",
       " '13_police_died_shooting_killed': 5089,\n",
       " '17_nintendo_ps5_xbox_cyberpunk': 4809,\n",
       " '16_google_tiktok_app_chrome': 4623,\n",
       " '18_ufc_wwe_wrestlemania_wrestling': 4212,\n",
       " '19_bitcoin_cryptocurrency_crypto_coinbase': 3679}"
      ]
     },
     "metadata": {},
     "execution_count": 6
    }
   ],
   "metadata": {}
  },
  {
   "cell_type": "markdown",
   "source": [
    "## Get random document\n",
    "Getting a truly random document from the collection"
   ],
   "metadata": {}
  },
  {
   "cell_type": "code",
   "execution_count": 7,
   "source": [
    "# Print random document\n",
    "result = es.search(\n",
    "    {\n",
    "        \"size\": 1,\n",
    "        \"query\": {\n",
    "            \"function_score\": {\n",
    "                \"functions\": [\n",
    "                    {\n",
    "                        \"random_score\": {\n",
    "                            \"seed\": \"1477072619038\"\n",
    "                        }\n",
    "                    }\n",
    "                ]\n",
    "            }\n",
    "        }\n",
    "    },\n",
    "    index=\"document\"\n",
    ")['hits']['hits'][0]\n",
    "print(f\"Document ID: {result['_id']}\", \"\\n\", compact_doc(result['_source']))"
   ],
   "outputs": [
    {
     "output_type": "stream",
     "name": "stdout",
     "text": [
      "Document ID: 90da4ab6-b866-4966-9f14-f7b7fc1298fa \n",
      " {'text': 'COLUMN-Fed focus on jobs implies significant inflation overshoot: Kemp - Reuters#SEPTAG#The U.S. Federal Reserve’s determination to stimulate the economy through low interest rates and bond buying until employment returns to pre-epidemic levels will likely raise commodity prices significantly in the interim.#SEPTAG#(John Kemp is a Reuters market analyst. The views expressed are his own)* Chartbook: tmsnrt.rs/3yoc7fULONDON, May 18 (Reuters) - The U.S. Federal Reserves determination to stimulate the economy t', 'embedding': [-0.1872081756591797, -0.5725518465042114, -0.3096131384372711, '...'], 'source': 'reuters', 'publishedat': '2021-05-18T13:47:00Z', 'url': 'https://www.reuters.com/article/usa-inflation-kemp-idUSL5N2N54DG', 'urltoimage': 'https://s1.reutersmedia.net/resources_v2/images/rcom-default.png?w=800', 'category': 'general', 'umap_embeddings': [-0.5174710750579834, -1.515263557434082], 'topic_number': -1, 'topic_label': '-1_covid_19_covid 19_coronavirus'}\n"
     ]
    }
   ],
   "metadata": {}
  },
  {
   "cell_type": "markdown",
   "source": [
    "## Published date\n",
    "Getting the documents obeying to a date range"
   ],
   "metadata": {}
  },
  {
   "cell_type": "code",
   "execution_count": 8,
   "source": [
    "# Get number of documents between two dates\n",
    "query = {\n",
    "    \"query\": {\n",
    "        \"range\": {\n",
    "            \"publishedat\": {\n",
    "                \"gte\": \"2020-01-01\",\n",
    "                \"lte\": \"2021-01-01\"\n",
    "            }\n",
    "        }\n",
    "    }\n",
    "}\n",
    "\n",
    "count = es.count(query, index=\"document\")['count']\n",
    "\n",
    "result = es.search(query, index=\"document\")['hits']['hits']\n",
    "\n",
    "print(f\"There are {count} documents in the search result. An example of these documents:\\n\")\n",
    "print(f\"Document ID: {result[0]['_id']}\", \"\\n\", compact_doc(result[0]['_source']))"
   ],
   "outputs": [
    {
     "output_type": "stream",
     "name": "stdout",
     "text": [
      "There are 114348 documents in the search result. An example of these documents:\n",
      "\n",
      "Document ID: 00c05f65-aa2f-4cf9-8f49-8102e6f7c1aa \n",
      " {'text': \"LSU film room: Inside LSU's defensive third downs that helped stop Arkansas - The Advocate#SEPTAG#FAYETTEVILLE, Ark. — Welcome to Film Room, where we'll break down significant portions from LSU's last football game.#SEPTAG#FAYETTEVILLE, Ark.\\xa0\\xa0Welcome to Film Room, where we'll break down significant portions from LSU's last football game.(Click to enlarge photos)LSU 27, Arkansas 24How It HappenedThird down stops\", 'embedding': [-0.3853817284107208, -0.00019888236420229077, -0.6122472882270813, '...'], 'source': None, 'publishedat': '2020-11-23T01:00:00Z', 'url': 'https://www.theadvocate.com/baton_rouge/sports/lsu/article_cb38a048-2d08-11eb-ab69-d355dfc97db0.html', 'urltoimage': 'https://bloximages.newyork1.vip.townnews.com/theadvocate.com/content/tncms/assets/v3/editorial/1/40/1409b0ce-2d26-11eb-8807-23edf6b8cb23/5fbb07a94cd58.image.jpg?resize=1064%2C630', 'category': 'sports', 'umap_embeddings': [6.976565837860107, -0.369615763425827], 'topic_number': 12, 'topic_label': '12_game_warzone_black ops_destiny'}\n"
     ]
    }
   ],
   "metadata": {
    "tags": []
   }
  },
  {
   "cell_type": "code",
   "execution_count": 9,
   "source": [
    "# Get most recent documents\n",
    "result = es.search(\n",
    "    {\n",
    "        \"size\": 10,\n",
    "        \"sort\": {\n",
    "            \"publishedat\": \"desc\"\n",
    "        },\n",
    "        \"query\": {\n",
    "            \"match_all\": {}\n",
    "        }\n",
    "    },\n",
    "    index=\"document\"\n",
    ")['hits']['hits']\n",
    "print(\"The most recent document is: \\n\")\n",
    "print(f\"Document ID: {result[0]['_id']}\", \"\\n\", compact_doc(result[0]['_source']))"
   ],
   "outputs": [
    {
     "output_type": "stream",
     "name": "stdout",
     "text": [
      "The most recent document is: \n",
      "\n",
      "Document ID: 82e13d05-4205-4461-b0e7-199d397f414a \n",
      " {'text': 'News24.com | No evidence of corruption was provided - IPP office on challenge to R218bn Karpowership deal#SEPTAG#Authorities have said a legal challenge by DNG Energy to the awarding of a power supply contract worth an estimated R218 billion to Turkey\\'s Karpowership was \"without merit\" and \"self serving\".#SEPTAG#The head of SA\\'s Independent Power Producer Procurement (IPP) Programme Office said a rival\\'s challenge to the awarding of a R218bn contract to Karpowership was \\'without merit\\'DNG ha', 'embedding': [-0.11433468014001846, 0.14669691026210785, 0.017174866050481796, '...'], 'source': 'news24', 'publishedat': '2021-06-02T06:09:55Z', 'url': 'https://www.news24.com/fin24/Economy/no-evidence-of-corruption-was-provided-ipp-office-on-challenge-to-r218bn-karpowership-deal-20210602', 'urltoimage': None, 'category': 'general', 'umap_embeddings': [-0.720394492149353, -0.21168778836727142], 'topic_number': -1, 'topic_label': '-1_covid_19_covid 19_coronavirus'}\n"
     ]
    }
   ],
   "metadata": {}
  },
  {
   "cell_type": "code",
   "execution_count": 10,
   "source": [
    "# Get oldest documents\n",
    "result = es.search(\n",
    "    {\n",
    "        \"size\": 10,\n",
    "        \"sort\": {\n",
    "            \"publishedat\": \"asc\"\n",
    "        },\n",
    "        \"query\": {\n",
    "            \"match_all\": {}\n",
    "        }\n",
    "    },\n",
    "    index=\"document\"\n",
    ")['hits']['hits']\n",
    "print(\"The oldest document is: \\n\")\n",
    "print(f\"Document ID: {result[0]['_id']}\", \"\\n\", compact_doc(result[0]['_source']))"
   ],
   "outputs": [
    {
     "output_type": "stream",
     "name": "stdout",
     "text": [
      "The oldest document is: \n",
      "\n",
      "Document ID: 8c5706b0-15b4-4bad-98f1-2d8d1c146b27 \n",
      " {'text': '60 Minutes (Official Site) Watch on CBS - cbs.com#SEPTAG#Offering hard-hitting investigative reports, interviews, feature segments, and profiles of people in the news, the CBS News magazine has been the number-one program a record five times.#SEPTAG#S53 E283/28/2021: What Happened in Wuhan?, Dynamic Robots, Kindred in the BleachersFinding the origin of the coronavirus; Then, robots of the future at Boston Dynamics; And, Dave Kindred goes back ', 'embedding': [-0.22366869449615479, -0.5511829257011414, -0.23397429287433624, '...'], 'source': None, 'publishedat': '2012-07-25T19:09:34Z', 'url': 'https://www.cbs.com/shows/60_minutes/', 'urltoimage': 'https://wwwimage-tve.cbsstatic.com/base/files/seo/cbs-social_19.jpg', 'category': 'technology', 'umap_embeddings': [3.328604221343994, -1.3340216875076294], 'topic_number': -1, 'topic_label': '-1_covid_19_covid 19_coronavirus'}\n"
     ]
    }
   ],
   "metadata": {}
  },
  {
   "cell_type": "code",
   "execution_count": 11,
   "source": [
    "# Plot number of documents per publishedAt day\n",
    "result = es.search(\n",
    "    {\n",
    "        \"size\": 0,\n",
    "        \"aggs\": {\n",
    "            \"news_per_day\": {\n",
    "                \"date_histogram\": {\n",
    "                    \"field\": \"publishedat\",\n",
    "                    \"calendar_interval\": \"day\",\n",
    "                    \"format\": \"yyyy-MM-dd\"\n",
    "                }\n",
    "            }\n",
    "        }\n",
    "    },\n",
    "    index=\"document\"\n",
    ")['aggregations']['news_per_day']['buckets']\n",
    "\n",
    "# data\n",
    "counts = list(map(lambda x: x['doc_count'], result))\n",
    "time = list(map(lambda x: datetime.strptime(x['key_as_string'], '%Y-%m-%d'), result))\n",
    "\n",
    "# hover tool\n",
    "hover_tool = HoverTool(\n",
    "    tooltips=[\n",
    "        ('Day', '@x{%F}'),\n",
    "        ('Number of documents', '@y'),\n",
    "    ],\n",
    "    formatters={'@x': 'datetime'},\n",
    "    mode='vline'\n",
    ")\n",
    "\n",
    "# figure and options\n",
    "p = figure(\n",
    "    x_axis_type=\"datetime\", \n",
    "    title=\"Number of Documents over time\", \n",
    "    plot_height=350, \n",
    "    plot_width=800,\n",
    "    tools=[hover_tool, 'pan', 'box_zoom', 'reset', 'wheel_zoom']\n",
    ")\n",
    "p.ygrid.grid_line_alpha=0.5\n",
    "p.xaxis.axis_label = 'Time'\n",
    "p.yaxis.axis_label = 'Number of Documents'\n",
    "\n",
    "# plot\n",
    "p.line(time, counts)\n",
    "\n",
    "show(p)"
   ],
   "outputs": [
    {
     "output_type": "display_data",
     "data": {
      "text/html": [
       "\n",
       "\n",
       "\n",
       "\n",
       "\n",
       "\n",
       "  <div class=\"bk-root\" id=\"82e7db4f-b804-4c11-a256-4f2c704b8f02\" data-root-id=\"1003\"></div>\n"
      ]
     },
     "metadata": {}
    },
    {
     "output_type": "display_data",
     "data": {
      "application/javascript": "(function(root) {\n  function embed_document(root) {\n    \n  var docs_json = {\"e4314374-8a27-454a-8930-fe853ba34e56\":{\"roots\":{\"references\":[{\"attributes\":{\"below\":[{\"id\":\"1014\"}],\"center\":[{\"id\":\"1017\"},{\"id\":\"1021\"}],\"left\":[{\"id\":\"1018\"}],\"plot_height\":350,\"plot_width\":800,\"renderers\":[{\"id\":\"1035\"}],\"title\":{\"id\":\"1004\"},\"toolbar\":{\"id\":\"1026\"},\"x_range\":{\"id\":\"1006\"},\"x_scale\":{\"id\":\"1010\"},\"y_range\":{\"id\":\"1008\"},\"y_scale\":{\"id\":\"1012\"}},\"id\":\"1003\",\"subtype\":\"Figure\",\"type\":\"Plot\"},{\"attributes\":{\"text\":\"Number of Documents over time\"},\"id\":\"1004\",\"type\":\"Title\"},{\"attributes\":{\"base\":60,\"mantissas\":[1,2,5,10,15,20,30],\"max_interval\":1800000.0,\"min_interval\":1000.0,\"num_minor_ticks\":0},\"id\":\"1046\",\"type\":\"AdaptiveTicker\"},{\"attributes\":{},\"id\":\"1025\",\"type\":\"WheelZoomTool\"},{\"attributes\":{},\"id\":\"1024\",\"type\":\"ResetTool\"},{\"attributes\":{\"months\":[0,2,4,6,8,10]},\"id\":\"1053\",\"type\":\"MonthsTicker\"},{\"attributes\":{\"callback\":null,\"formatters\":{\"@x\":\"datetime\"},\"mode\":\"vline\",\"tooltips\":[[\"Day\",\"@x{%F}\"],[\"Number of documents\",\"@y\"]]},\"id\":\"1002\",\"type\":\"HoverTool\"},{\"attributes\":{\"months\":[0,4,8]},\"id\":\"1054\",\"type\":\"MonthsTicker\"},{\"attributes\":{},\"id\":\"1010\",\"type\":\"LinearScale\"},{\"attributes\":{\"months\":[0,6]},\"id\":\"1055\",\"type\":\"MonthsTicker\"},{\"attributes\":{\"data_source\":{\"id\":\"1032\"},\"glyph\":{\"id\":\"1033\"},\"hover_glyph\":null,\"muted_glyph\":null,\"nonselection_glyph\":{\"id\":\"1034\"},\"selection_glyph\":null,\"view\":{\"id\":\"1036\"}},\"id\":\"1035\",\"type\":\"GlyphRenderer\"},{\"attributes\":{\"line_alpha\":0.1,\"line_color\":\"#1f77b4\",\"x\":{\"field\":\"x\"},\"y\":{\"field\":\"y\"}},\"id\":\"1034\",\"type\":\"Line\"},{\"attributes\":{},\"id\":\"1056\",\"type\":\"YearsTicker\"},{\"attributes\":{\"axis\":{\"id\":\"1014\"},\"ticker\":null},\"id\":\"1017\",\"type\":\"Grid\"},{\"attributes\":{\"data\":{\"x\":[1343174400000.0,1343260800000.0,1343347200000.0,1343433600000.0,1343520000000.0,1343606400000.0,1343692800000.0,1343779200000.0,1343865600000.0,1343952000000.0,1344038400000.0,1344124800000.0,1344211200000.0,1344297600000.0,1344384000000.0,1344470400000.0,1344556800000.0,1344643200000.0,1344729600000.0,1344816000000.0,1344902400000.0,1344988800000.0,1345075200000.0,1345161600000.0,1345248000000.0,1345334400000.0,1345420800000.0,1345507200000.0,1345593600000.0,1345680000000.0,1345766400000.0,1345852800000.0,1345939200000.0,1346025600000.0,1346112000000.0,1346198400000.0,1346284800000.0,1346371200000.0,1346457600000.0,1346544000000.0,1346630400000.0,1346716800000.0,1346803200000.0,1346889600000.0,1346976000000.0,1347062400000.0,1347148800000.0,1347235200000.0,1347321600000.0,1347408000000.0,1347494400000.0,1347580800000.0,1347667200000.0,1347753600000.0,1347840000000.0,1347926400000.0,1348012800000.0,1348099200000.0,1348185600000.0,1348272000000.0,1348358400000.0,1348444800000.0,1348531200000.0,1348617600000.0,1348704000000.0,1348790400000.0,1348876800000.0,1348963200000.0,1349049600000.0,1349136000000.0,1349222400000.0,1349308800000.0,1349395200000.0,1349481600000.0,1349568000000.0,1349654400000.0,1349740800000.0,1349827200000.0,1349913600000.0,1350000000000.0,1350086400000.0,1350172800000.0,1350259200000.0,1350345600000.0,1350432000000.0,1350518400000.0,1350604800000.0,1350691200000.0,1350777600000.0,1350864000000.0,1350950400000.0,1351036800000.0,1351123200000.0,1351209600000.0,1351296000000.0,1351382400000.0,1351468800000.0,1351555200000.0,1351641600000.0,1351728000000.0,1351814400000.0,1351900800000.0,1351987200000.0,1352073600000.0,1352160000000.0,1352246400000.0,1352332800000.0,1352419200000.0,1352505600000.0,1352592000000.0,1352678400000.0,1352764800000.0,1352851200000.0,1352937600000.0,1353024000000.0,1353110400000.0,1353196800000.0,1353283200000.0,1353369600000.0,1353456000000.0,1353542400000.0,1353628800000.0,1353715200000.0,1353801600000.0,1353888000000.0,1353974400000.0,1354060800000.0,1354147200000.0,1354233600000.0,1354320000000.0,1354406400000.0,1354492800000.0,1354579200000.0,1354665600000.0,1354752000000.0,1354838400000.0,1354924800000.0,1355011200000.0,1355097600000.0,1355184000000.0,1355270400000.0,1355356800000.0,1355443200000.0,1355529600000.0,1355616000000.0,1355702400000.0,1355788800000.0,1355875200000.0,1355961600000.0,1356048000000.0,1356134400000.0,1356220800000.0,1356307200000.0,1356393600000.0,1356480000000.0,1356566400000.0,1356652800000.0,1356739200000.0,1356825600000.0,1356912000000.0,1356998400000.0,1357084800000.0,1357171200000.0,1357257600000.0,1357344000000.0,1357430400000.0,1357516800000.0,1357603200000.0,1357689600000.0,1357776000000.0,1357862400000.0,1357948800000.0,1358035200000.0,1358121600000.0,1358208000000.0,1358294400000.0,1358380800000.0,1358467200000.0,1358553600000.0,1358640000000.0,1358726400000.0,1358812800000.0,1358899200000.0,1358985600000.0,1359072000000.0,1359158400000.0,1359244800000.0,1359331200000.0,1359417600000.0,1359504000000.0,1359590400000.0,1359676800000.0,1359763200000.0,1359849600000.0,1359936000000.0,1360022400000.0,1360108800000.0,1360195200000.0,1360281600000.0,1360368000000.0,1360454400000.0,1360540800000.0,1360627200000.0,1360713600000.0,1360800000000.0,1360886400000.0,1360972800000.0,1361059200000.0,1361145600000.0,1361232000000.0,1361318400000.0,1361404800000.0,1361491200000.0,1361577600000.0,1361664000000.0,1361750400000.0,1361836800000.0,1361923200000.0,1362009600000.0,1362096000000.0,1362182400000.0,1362268800000.0,1362355200000.0,1362441600000.0,1362528000000.0,1362614400000.0,1362700800000.0,1362787200000.0,1362873600000.0,1362960000000.0,1363046400000.0,1363132800000.0,1363219200000.0,1363305600000.0,1363392000000.0,1363478400000.0,1363564800000.0,1363651200000.0,1363737600000.0,1363824000000.0,1363910400000.0,1363996800000.0,1364083200000.0,1364169600000.0,1364256000000.0,1364342400000.0,1364428800000.0,1364515200000.0,1364601600000.0,1364688000000.0,1364774400000.0,1364860800000.0,1364947200000.0,1365033600000.0,1365120000000.0,1365206400000.0,1365292800000.0,1365379200000.0,1365465600000.0,1365552000000.0,1365638400000.0,1365724800000.0,1365811200000.0,1365897600000.0,1365984000000.0,1366070400000.0,1366156800000.0,1366243200000.0,1366329600000.0,1366416000000.0,1366502400000.0,1366588800000.0,1366675200000.0,1366761600000.0,1366848000000.0,1366934400000.0,1367020800000.0,1367107200000.0,1367193600000.0,1367280000000.0,1367366400000.0,1367452800000.0,1367539200000.0,1367625600000.0,1367712000000.0,1367798400000.0,1367884800000.0,1367971200000.0,1368057600000.0,1368144000000.0,1368230400000.0,1368316800000.0,1368403200000.0,1368489600000.0,1368576000000.0,1368662400000.0,1368748800000.0,1368835200000.0,1368921600000.0,1369008000000.0,1369094400000.0,1369180800000.0,1369267200000.0,1369353600000.0,1369440000000.0,1369526400000.0,1369612800000.0,1369699200000.0,1369785600000.0,1369872000000.0,1369958400000.0,1370044800000.0,1370131200000.0,1370217600000.0,1370304000000.0,1370390400000.0,1370476800000.0,1370563200000.0,1370649600000.0,1370736000000.0,1370822400000.0,1370908800000.0,1370995200000.0,1371081600000.0,1371168000000.0,1371254400000.0,1371340800000.0,1371427200000.0,1371513600000.0,1371600000000.0,1371686400000.0,1371772800000.0,1371859200000.0,1371945600000.0,1372032000000.0,1372118400000.0,1372204800000.0,1372291200000.0,1372377600000.0,1372464000000.0,1372550400000.0,1372636800000.0,1372723200000.0,1372809600000.0,1372896000000.0,1372982400000.0,1373068800000.0,1373155200000.0,1373241600000.0,1373328000000.0,1373414400000.0,1373500800000.0,1373587200000.0,1373673600000.0,1373760000000.0,1373846400000.0,1373932800000.0,1374019200000.0,1374105600000.0,1374192000000.0,1374278400000.0,1374364800000.0,1374451200000.0,1374537600000.0,1374624000000.0,1374710400000.0,1374796800000.0,1374883200000.0,1374969600000.0,1375056000000.0,1375142400000.0,1375228800000.0,1375315200000.0,1375401600000.0,1375488000000.0,1375574400000.0,1375660800000.0,1375747200000.0,1375833600000.0,1375920000000.0,1376006400000.0,1376092800000.0,1376179200000.0,1376265600000.0,1376352000000.0,1376438400000.0,1376524800000.0,1376611200000.0,1376697600000.0,1376784000000.0,1376870400000.0,1376956800000.0,1377043200000.0,1377129600000.0,1377216000000.0,1377302400000.0,1377388800000.0,1377475200000.0,1377561600000.0,1377648000000.0,1377734400000.0,1377820800000.0,1377907200000.0,1377993600000.0,1378080000000.0,1378166400000.0,1378252800000.0,1378339200000.0,1378425600000.0,1378512000000.0,1378598400000.0,1378684800000.0,1378771200000.0,1378857600000.0,1378944000000.0,1379030400000.0,1379116800000.0,1379203200000.0,1379289600000.0,1379376000000.0,1379462400000.0,1379548800000.0,1379635200000.0,1379721600000.0,1379808000000.0,1379894400000.0,1379980800000.0,1380067200000.0,1380153600000.0,1380240000000.0,1380326400000.0,1380412800000.0,1380499200000.0,1380585600000.0,1380672000000.0,1380758400000.0,1380844800000.0,1380931200000.0,1381017600000.0,1381104000000.0,1381190400000.0,1381276800000.0,1381363200000.0,1381449600000.0,1381536000000.0,1381622400000.0,1381708800000.0,1381795200000.0,1381881600000.0,1381968000000.0,1382054400000.0,1382140800000.0,1382227200000.0,1382313600000.0,1382400000000.0,1382486400000.0,1382572800000.0,1382659200000.0,1382745600000.0,1382832000000.0,1382918400000.0,1383004800000.0,1383091200000.0,1383177600000.0,1383264000000.0,1383350400000.0,1383436800000.0,1383523200000.0,1383609600000.0,1383696000000.0,1383782400000.0,1383868800000.0,1383955200000.0,1384041600000.0,1384128000000.0,1384214400000.0,1384300800000.0,1384387200000.0,1384473600000.0,1384560000000.0,1384646400000.0,1384732800000.0,1384819200000.0,1384905600000.0,1384992000000.0,1385078400000.0,1385164800000.0,1385251200000.0,1385337600000.0,1385424000000.0,1385510400000.0,1385596800000.0,1385683200000.0,1385769600000.0,1385856000000.0,1385942400000.0,1386028800000.0,1386115200000.0,1386201600000.0,1386288000000.0,1386374400000.0,1386460800000.0,1386547200000.0,1386633600000.0,1386720000000.0,1386806400000.0,1386892800000.0,1386979200000.0,1387065600000.0,1387152000000.0,1387238400000.0,1387324800000.0,1387411200000.0,1387497600000.0,1387584000000.0,1387670400000.0,1387756800000.0,1387843200000.0,1387929600000.0,1388016000000.0,1388102400000.0,1388188800000.0,1388275200000.0,1388361600000.0,1388448000000.0,1388534400000.0,1388620800000.0,1388707200000.0,1388793600000.0,1388880000000.0,1388966400000.0,1389052800000.0,1389139200000.0,1389225600000.0,1389312000000.0,1389398400000.0,1389484800000.0,1389571200000.0,1389657600000.0,1389744000000.0,1389830400000.0,1389916800000.0,1390003200000.0,1390089600000.0,1390176000000.0,1390262400000.0,1390348800000.0,1390435200000.0,1390521600000.0,1390608000000.0,1390694400000.0,1390780800000.0,1390867200000.0,1390953600000.0,1391040000000.0,1391126400000.0,1391212800000.0,1391299200000.0,1391385600000.0,1391472000000.0,1391558400000.0,1391644800000.0,1391731200000.0,1391817600000.0,1391904000000.0,1391990400000.0,1392076800000.0,1392163200000.0,1392249600000.0,1392336000000.0,1392422400000.0,1392508800000.0,1392595200000.0,1392681600000.0,1392768000000.0,1392854400000.0,1392940800000.0,1393027200000.0,1393113600000.0,1393200000000.0,1393286400000.0,1393372800000.0,1393459200000.0,1393545600000.0,1393632000000.0,1393718400000.0,1393804800000.0,1393891200000.0,1393977600000.0,1394064000000.0,1394150400000.0,1394236800000.0,1394323200000.0,1394409600000.0,1394496000000.0,1394582400000.0,1394668800000.0,1394755200000.0,1394841600000.0,1394928000000.0,1395014400000.0,1395100800000.0,1395187200000.0,1395273600000.0,1395360000000.0,1395446400000.0,1395532800000.0,1395619200000.0,1395705600000.0,1395792000000.0,1395878400000.0,1395964800000.0,1396051200000.0,1396137600000.0,1396224000000.0,1396310400000.0,1396396800000.0,1396483200000.0,1396569600000.0,1396656000000.0,1396742400000.0,1396828800000.0,1396915200000.0,1397001600000.0,1397088000000.0,1397174400000.0,1397260800000.0,1397347200000.0,1397433600000.0,1397520000000.0,1397606400000.0,1397692800000.0,1397779200000.0,1397865600000.0,1397952000000.0,1398038400000.0,1398124800000.0,1398211200000.0,1398297600000.0,1398384000000.0,1398470400000.0,1398556800000.0,1398643200000.0,1398729600000.0,1398816000000.0,1398902400000.0,1398988800000.0,1399075200000.0,1399161600000.0,1399248000000.0,1399334400000.0,1399420800000.0,1399507200000.0,1399593600000.0,1399680000000.0,1399766400000.0,1399852800000.0,1399939200000.0,1400025600000.0,1400112000000.0,1400198400000.0,1400284800000.0,1400371200000.0,1400457600000.0,1400544000000.0,1400630400000.0,1400716800000.0,1400803200000.0,1400889600000.0,1400976000000.0,1401062400000.0,1401148800000.0,1401235200000.0,1401321600000.0,1401408000000.0,1401494400000.0,1401580800000.0,1401667200000.0,1401753600000.0,1401840000000.0,1401926400000.0,1402012800000.0,1402099200000.0,1402185600000.0,1402272000000.0,1402358400000.0,1402444800000.0,1402531200000.0,1402617600000.0,1402704000000.0,1402790400000.0,1402876800000.0,1402963200000.0,1403049600000.0,1403136000000.0,1403222400000.0,1403308800000.0,1403395200000.0,1403481600000.0,1403568000000.0,1403654400000.0,1403740800000.0,1403827200000.0,1403913600000.0,1404000000000.0,1404086400000.0,1404172800000.0,1404259200000.0,1404345600000.0,1404432000000.0,1404518400000.0,1404604800000.0,1404691200000.0,1404777600000.0,1404864000000.0,1404950400000.0,1405036800000.0,1405123200000.0,1405209600000.0,1405296000000.0,1405382400000.0,1405468800000.0,1405555200000.0,1405641600000.0,1405728000000.0,1405814400000.0,1405900800000.0,1405987200000.0,1406073600000.0,1406160000000.0,1406246400000.0,1406332800000.0,1406419200000.0,1406505600000.0,1406592000000.0,1406678400000.0,1406764800000.0,1406851200000.0,1406937600000.0,1407024000000.0,1407110400000.0,1407196800000.0,1407283200000.0,1407369600000.0,1407456000000.0,1407542400000.0,1407628800000.0,1407715200000.0,1407801600000.0,1407888000000.0,1407974400000.0,1408060800000.0,1408147200000.0,1408233600000.0,1408320000000.0,1408406400000.0,1408492800000.0,1408579200000.0,1408665600000.0,1408752000000.0,1408838400000.0,1408924800000.0,1409011200000.0,1409097600000.0,1409184000000.0,1409270400000.0,1409356800000.0,1409443200000.0,1409529600000.0,1409616000000.0,1409702400000.0,1409788800000.0,1409875200000.0,1409961600000.0,1410048000000.0,1410134400000.0,1410220800000.0,1410307200000.0,1410393600000.0,1410480000000.0,1410566400000.0,1410652800000.0,1410739200000.0,1410825600000.0,1410912000000.0,1410998400000.0,1411084800000.0,1411171200000.0,1411257600000.0,1411344000000.0,1411430400000.0,1411516800000.0,1411603200000.0,1411689600000.0,1411776000000.0,1411862400000.0,1411948800000.0,1412035200000.0,1412121600000.0,1412208000000.0,1412294400000.0,1412380800000.0,1412467200000.0,1412553600000.0,1412640000000.0,1412726400000.0,1412812800000.0,1412899200000.0,1412985600000.0,1413072000000.0,1413158400000.0,1413244800000.0,1413331200000.0,1413417600000.0,1413504000000.0,1413590400000.0,1413676800000.0,1413763200000.0,1413849600000.0,1413936000000.0,1414022400000.0,1414108800000.0,1414195200000.0,1414281600000.0,1414368000000.0,1414454400000.0,1414540800000.0,1414627200000.0,1414713600000.0,1414800000000.0,1414886400000.0,1414972800000.0,1415059200000.0,1415145600000.0,1415232000000.0,1415318400000.0,1415404800000.0,1415491200000.0,1415577600000.0,1415664000000.0,1415750400000.0,1415836800000.0,1415923200000.0,1416009600000.0,1416096000000.0,1416182400000.0,1416268800000.0,1416355200000.0,1416441600000.0,1416528000000.0,1416614400000.0,1416700800000.0,1416787200000.0,1416873600000.0,1416960000000.0,1417046400000.0,1417132800000.0,1417219200000.0,1417305600000.0,1417392000000.0,1417478400000.0,1417564800000.0,1417651200000.0,1417737600000.0,1417824000000.0,1417910400000.0,1417996800000.0,1418083200000.0,1418169600000.0,1418256000000.0,1418342400000.0,1418428800000.0,1418515200000.0,1418601600000.0,1418688000000.0,1418774400000.0,1418860800000.0,1418947200000.0,1419033600000.0,1419120000000.0,1419206400000.0,1419292800000.0,1419379200000.0,1419465600000.0,1419552000000.0,1419638400000.0,1419724800000.0,1419811200000.0,1419897600000.0,1419984000000.0,1420070400000.0,1420156800000.0,1420243200000.0,1420329600000.0,1420416000000.0,1420502400000.0,1420588800000.0,1420675200000.0,1420761600000.0,1420848000000.0,1420934400000.0,1421020800000.0,1421107200000.0,1421193600000.0,1421280000000.0,1421366400000.0,1421452800000.0,1421539200000.0,1421625600000.0,1421712000000.0,1421798400000.0,1421884800000.0,1421971200000.0,1422057600000.0,1422144000000.0,1422230400000.0,1422316800000.0,1422403200000.0,1422489600000.0,1422576000000.0,1422662400000.0,1422748800000.0,1422835200000.0,1422921600000.0,1423008000000.0,1423094400000.0,1423180800000.0,1423267200000.0,1423353600000.0,1423440000000.0,1423526400000.0,1423612800000.0,1423699200000.0,1423785600000.0,1423872000000.0,1423958400000.0,1424044800000.0,1424131200000.0,1424217600000.0,1424304000000.0,1424390400000.0,1424476800000.0,1424563200000.0,1424649600000.0,1424736000000.0,1424822400000.0,1424908800000.0,1424995200000.0,1425081600000.0,1425168000000.0,1425254400000.0,1425340800000.0,1425427200000.0,1425513600000.0,1425600000000.0,1425686400000.0,1425772800000.0,1425859200000.0,1425945600000.0,1426032000000.0,1426118400000.0,1426204800000.0,1426291200000.0,1426377600000.0,1426464000000.0,1426550400000.0,1426636800000.0,1426723200000.0,1426809600000.0,1426896000000.0,1426982400000.0,1427068800000.0,1427155200000.0,1427241600000.0,1427328000000.0,1427414400000.0,1427500800000.0,1427587200000.0,1427673600000.0,1427760000000.0,1427846400000.0,1427932800000.0,1428019200000.0,1428105600000.0,1428192000000.0,1428278400000.0,1428364800000.0,1428451200000.0,1428537600000.0,1428624000000.0,1428710400000.0,1428796800000.0,1428883200000.0,1428969600000.0,1429056000000.0,1429142400000.0,1429228800000.0,1429315200000.0,1429401600000.0,1429488000000.0,1429574400000.0,1429660800000.0,1429747200000.0,1429833600000.0,1429920000000.0,1430006400000.0,1430092800000.0,1430179200000.0,1430265600000.0,1430352000000.0,1430438400000.0,1430524800000.0,1430611200000.0,1430697600000.0,1430784000000.0,1430870400000.0,1430956800000.0,1431043200000.0,1431129600000.0,1431216000000.0,1431302400000.0,1431388800000.0,1431475200000.0,1431561600000.0,1431648000000.0,1431734400000.0,1431820800000.0,1431907200000.0,1431993600000.0,1432080000000.0,1432166400000.0,1432252800000.0,1432339200000.0,1432425600000.0,1432512000000.0,1432598400000.0,1432684800000.0,1432771200000.0,1432857600000.0,1432944000000.0,1433030400000.0,1433116800000.0,1433203200000.0,1433289600000.0,1433376000000.0,1433462400000.0,1433548800000.0,1433635200000.0,1433721600000.0,1433808000000.0,1433894400000.0,1433980800000.0,1434067200000.0,1434153600000.0,1434240000000.0,1434326400000.0,1434412800000.0,1434499200000.0,1434585600000.0,1434672000000.0,1434758400000.0,1434844800000.0,1434931200000.0,1435017600000.0,1435104000000.0,1435190400000.0,1435276800000.0,1435363200000.0,1435449600000.0,1435536000000.0,1435622400000.0,1435708800000.0,1435795200000.0,1435881600000.0,1435968000000.0,1436054400000.0,1436140800000.0,1436227200000.0,1436313600000.0,1436400000000.0,1436486400000.0,1436572800000.0,1436659200000.0,1436745600000.0,1436832000000.0,1436918400000.0,1437004800000.0,1437091200000.0,1437177600000.0,1437264000000.0,1437350400000.0,1437436800000.0,1437523200000.0,1437609600000.0,1437696000000.0,1437782400000.0,1437868800000.0,1437955200000.0,1438041600000.0,1438128000000.0,1438214400000.0,1438300800000.0,1438387200000.0,1438473600000.0,1438560000000.0,1438646400000.0,1438732800000.0,1438819200000.0,1438905600000.0,1438992000000.0,1439078400000.0,1439164800000.0,1439251200000.0,1439337600000.0,1439424000000.0,1439510400000.0,1439596800000.0,1439683200000.0,1439769600000.0,1439856000000.0,1439942400000.0,1440028800000.0,1440115200000.0,1440201600000.0,1440288000000.0,1440374400000.0,1440460800000.0,1440547200000.0,1440633600000.0,1440720000000.0,1440806400000.0,1440892800000.0,1440979200000.0,1441065600000.0,1441152000000.0,1441238400000.0,1441324800000.0,1441411200000.0,1441497600000.0,1441584000000.0,1441670400000.0,1441756800000.0,1441843200000.0,1441929600000.0,1442016000000.0,1442102400000.0,1442188800000.0,1442275200000.0,1442361600000.0,1442448000000.0,1442534400000.0,1442620800000.0,1442707200000.0,1442793600000.0,1442880000000.0,1442966400000.0,1443052800000.0,1443139200000.0,1443225600000.0,1443312000000.0,1443398400000.0,1443484800000.0,1443571200000.0,1443657600000.0,1443744000000.0,1443830400000.0,1443916800000.0,1444003200000.0,1444089600000.0,1444176000000.0,1444262400000.0,1444348800000.0,1444435200000.0,1444521600000.0,1444608000000.0,1444694400000.0,1444780800000.0,1444867200000.0,1444953600000.0,1445040000000.0,1445126400000.0,1445212800000.0,1445299200000.0,1445385600000.0,1445472000000.0,1445558400000.0,1445644800000.0,1445731200000.0,1445817600000.0,1445904000000.0,1445990400000.0,1446076800000.0,1446163200000.0,1446249600000.0,1446336000000.0,1446422400000.0,1446508800000.0,1446595200000.0,1446681600000.0,1446768000000.0,1446854400000.0,1446940800000.0,1447027200000.0,1447113600000.0,1447200000000.0,1447286400000.0,1447372800000.0,1447459200000.0,1447545600000.0,1447632000000.0,1447718400000.0,1447804800000.0,1447891200000.0,1447977600000.0,1448064000000.0,1448150400000.0,1448236800000.0,1448323200000.0,1448409600000.0,1448496000000.0,1448582400000.0,1448668800000.0,1448755200000.0,1448841600000.0,1448928000000.0,1449014400000.0,1449100800000.0,1449187200000.0,1449273600000.0,1449360000000.0,1449446400000.0,1449532800000.0,1449619200000.0,1449705600000.0,1449792000000.0,1449878400000.0,1449964800000.0,1450051200000.0,1450137600000.0,1450224000000.0,1450310400000.0,1450396800000.0,1450483200000.0,1450569600000.0,1450656000000.0,1450742400000.0,1450828800000.0,1450915200000.0,1451001600000.0,1451088000000.0,1451174400000.0,1451260800000.0,1451347200000.0,1451433600000.0,1451520000000.0,1451606400000.0,1451692800000.0,1451779200000.0,1451865600000.0,1451952000000.0,1452038400000.0,1452124800000.0,1452211200000.0,1452297600000.0,1452384000000.0,1452470400000.0,1452556800000.0,1452643200000.0,1452729600000.0,1452816000000.0,1452902400000.0,1452988800000.0,1453075200000.0,1453161600000.0,1453248000000.0,1453334400000.0,1453420800000.0,1453507200000.0,1453593600000.0,1453680000000.0,1453766400000.0,1453852800000.0,1453939200000.0,1454025600000.0,1454112000000.0,1454198400000.0,1454284800000.0,1454371200000.0,1454457600000.0,1454544000000.0,1454630400000.0,1454716800000.0,1454803200000.0,1454889600000.0,1454976000000.0,1455062400000.0,1455148800000.0,1455235200000.0,1455321600000.0,1455408000000.0,1455494400000.0,1455580800000.0,1455667200000.0,1455753600000.0,1455840000000.0,1455926400000.0,1456012800000.0,1456099200000.0,1456185600000.0,1456272000000.0,1456358400000.0,1456444800000.0,1456531200000.0,1456617600000.0,1456704000000.0,1456790400000.0,1456876800000.0,1456963200000.0,1457049600000.0,1457136000000.0,1457222400000.0,1457308800000.0,1457395200000.0,1457481600000.0,1457568000000.0,1457654400000.0,1457740800000.0,1457827200000.0,1457913600000.0,1458000000000.0,1458086400000.0,1458172800000.0,1458259200000.0,1458345600000.0,1458432000000.0,1458518400000.0,1458604800000.0,1458691200000.0,1458777600000.0,1458864000000.0,1458950400000.0,1459036800000.0,1459123200000.0,1459209600000.0,1459296000000.0,1459382400000.0,1459468800000.0,1459555200000.0,1459641600000.0,1459728000000.0,1459814400000.0,1459900800000.0,1459987200000.0,1460073600000.0,1460160000000.0,1460246400000.0,1460332800000.0,1460419200000.0,1460505600000.0,1460592000000.0,1460678400000.0,1460764800000.0,1460851200000.0,1460937600000.0,1461024000000.0,1461110400000.0,1461196800000.0,1461283200000.0,1461369600000.0,1461456000000.0,1461542400000.0,1461628800000.0,1461715200000.0,1461801600000.0,1461888000000.0,1461974400000.0,1462060800000.0,1462147200000.0,1462233600000.0,1462320000000.0,1462406400000.0,1462492800000.0,1462579200000.0,1462665600000.0,1462752000000.0,1462838400000.0,1462924800000.0,1463011200000.0,1463097600000.0,1463184000000.0,1463270400000.0,1463356800000.0,1463443200000.0,1463529600000.0,1463616000000.0,1463702400000.0,1463788800000.0,1463875200000.0,1463961600000.0,1464048000000.0,1464134400000.0,1464220800000.0,1464307200000.0,1464393600000.0,1464480000000.0,1464566400000.0,1464652800000.0,1464739200000.0,1464825600000.0,1464912000000.0,1464998400000.0,1465084800000.0,1465171200000.0,1465257600000.0,1465344000000.0,1465430400000.0,1465516800000.0,1465603200000.0,1465689600000.0,1465776000000.0,1465862400000.0,1465948800000.0,1466035200000.0,1466121600000.0,1466208000000.0,1466294400000.0,1466380800000.0,1466467200000.0,1466553600000.0,1466640000000.0,1466726400000.0,1466812800000.0,1466899200000.0,1466985600000.0,1467072000000.0,1467158400000.0,1467244800000.0,1467331200000.0,1467417600000.0,1467504000000.0,1467590400000.0,1467676800000.0,1467763200000.0,1467849600000.0,1467936000000.0,1468022400000.0,1468108800000.0,1468195200000.0,1468281600000.0,1468368000000.0,1468454400000.0,1468540800000.0,1468627200000.0,1468713600000.0,1468800000000.0,1468886400000.0,1468972800000.0,1469059200000.0,1469145600000.0,1469232000000.0,1469318400000.0,1469404800000.0,1469491200000.0,1469577600000.0,1469664000000.0,1469750400000.0,1469836800000.0,1469923200000.0,1470009600000.0,1470096000000.0,1470182400000.0,1470268800000.0,1470355200000.0,1470441600000.0,1470528000000.0,1470614400000.0,1470700800000.0,1470787200000.0,1470873600000.0,1470960000000.0,1471046400000.0,1471132800000.0,1471219200000.0,1471305600000.0,1471392000000.0,1471478400000.0,1471564800000.0,1471651200000.0,1471737600000.0,1471824000000.0,1471910400000.0,1471996800000.0,1472083200000.0,1472169600000.0,1472256000000.0,1472342400000.0,1472428800000.0,1472515200000.0,1472601600000.0,1472688000000.0,1472774400000.0,1472860800000.0,1472947200000.0,1473033600000.0,1473120000000.0,1473206400000.0,1473292800000.0,1473379200000.0,1473465600000.0,1473552000000.0,1473638400000.0,1473724800000.0,1473811200000.0,1473897600000.0,1473984000000.0,1474070400000.0,1474156800000.0,1474243200000.0,1474329600000.0,1474416000000.0,1474502400000.0,1474588800000.0,1474675200000.0,1474761600000.0,1474848000000.0,1474934400000.0,1475020800000.0,1475107200000.0,1475193600000.0,1475280000000.0,1475366400000.0,1475452800000.0,1475539200000.0,1475625600000.0,1475712000000.0,1475798400000.0,1475884800000.0,1475971200000.0,1476057600000.0,1476144000000.0,1476230400000.0,1476316800000.0,1476403200000.0,1476489600000.0,1476576000000.0,1476662400000.0,1476748800000.0,1476835200000.0,1476921600000.0,1477008000000.0,1477094400000.0,1477180800000.0,1477267200000.0,1477353600000.0,1477440000000.0,1477526400000.0,1477612800000.0,1477699200000.0,1477785600000.0,1477872000000.0,1477958400000.0,1478044800000.0,1478131200000.0,1478217600000.0,1478304000000.0,1478390400000.0,1478476800000.0,1478563200000.0,1478649600000.0,1478736000000.0,1478822400000.0,1478908800000.0,1478995200000.0,1479081600000.0,1479168000000.0,1479254400000.0,1479340800000.0,1479427200000.0,1479513600000.0,1479600000000.0,1479686400000.0,1479772800000.0,1479859200000.0,1479945600000.0,1480032000000.0,1480118400000.0,1480204800000.0,1480291200000.0,1480377600000.0,1480464000000.0,1480550400000.0,1480636800000.0,1480723200000.0,1480809600000.0,1480896000000.0,1480982400000.0,1481068800000.0,1481155200000.0,1481241600000.0,1481328000000.0,1481414400000.0,1481500800000.0,1481587200000.0,1481673600000.0,1481760000000.0,1481846400000.0,1481932800000.0,1482019200000.0,1482105600000.0,1482192000000.0,1482278400000.0,1482364800000.0,1482451200000.0,1482537600000.0,1482624000000.0,1482710400000.0,1482796800000.0,1482883200000.0,1482969600000.0,1483056000000.0,1483142400000.0,1483228800000.0,1483315200000.0,1483401600000.0,1483488000000.0,1483574400000.0,1483660800000.0,1483747200000.0,1483833600000.0,1483920000000.0,1484006400000.0,1484092800000.0,1484179200000.0,1484265600000.0,1484352000000.0,1484438400000.0,1484524800000.0,1484611200000.0,1484697600000.0,1484784000000.0,1484870400000.0,1484956800000.0,1485043200000.0,1485129600000.0,1485216000000.0,1485302400000.0,1485388800000.0,1485475200000.0,1485561600000.0,1485648000000.0,1485734400000.0,1485820800000.0,1485907200000.0,1485993600000.0,1486080000000.0,1486166400000.0,1486252800000.0,1486339200000.0,1486425600000.0,1486512000000.0,1486598400000.0,1486684800000.0,1486771200000.0,1486857600000.0,1486944000000.0,1487030400000.0,1487116800000.0,1487203200000.0,1487289600000.0,1487376000000.0,1487462400000.0,1487548800000.0,1487635200000.0,1487721600000.0,1487808000000.0,1487894400000.0,1487980800000.0,1488067200000.0,1488153600000.0,1488240000000.0,1488326400000.0,1488412800000.0,1488499200000.0,1488585600000.0,1488672000000.0,1488758400000.0,1488844800000.0,1488931200000.0,1489017600000.0,1489104000000.0,1489190400000.0,1489276800000.0,1489363200000.0,1489449600000.0,1489536000000.0,1489622400000.0,1489708800000.0,1489795200000.0,1489881600000.0,1489968000000.0,1490054400000.0,1490140800000.0,1490227200000.0,1490313600000.0,1490400000000.0,1490486400000.0,1490572800000.0,1490659200000.0,1490745600000.0,1490832000000.0,1490918400000.0,1491004800000.0,1491091200000.0,1491177600000.0,1491264000000.0,1491350400000.0,1491436800000.0,1491523200000.0,1491609600000.0,1491696000000.0,1491782400000.0,1491868800000.0,1491955200000.0,1492041600000.0,1492128000000.0,1492214400000.0,1492300800000.0,1492387200000.0,1492473600000.0,1492560000000.0,1492646400000.0,1492732800000.0,1492819200000.0,1492905600000.0,1492992000000.0,1493078400000.0,1493164800000.0,1493251200000.0,1493337600000.0,1493424000000.0,1493510400000.0,1493596800000.0,1493683200000.0,1493769600000.0,1493856000000.0,1493942400000.0,1494028800000.0,1494115200000.0,1494201600000.0,1494288000000.0,1494374400000.0,1494460800000.0,1494547200000.0,1494633600000.0,1494720000000.0,1494806400000.0,1494892800000.0,1494979200000.0,1495065600000.0,1495152000000.0,1495238400000.0,1495324800000.0,1495411200000.0,1495497600000.0,1495584000000.0,1495670400000.0,1495756800000.0,1495843200000.0,1495929600000.0,1496016000000.0,1496102400000.0,1496188800000.0,1496275200000.0,1496361600000.0,1496448000000.0,1496534400000.0,1496620800000.0,1496707200000.0,1496793600000.0,1496880000000.0,1496966400000.0,1497052800000.0,1497139200000.0,1497225600000.0,1497312000000.0,1497398400000.0,1497484800000.0,1497571200000.0,1497657600000.0,1497744000000.0,1497830400000.0,1497916800000.0,1498003200000.0,1498089600000.0,1498176000000.0,1498262400000.0,1498348800000.0,1498435200000.0,1498521600000.0,1498608000000.0,1498694400000.0,1498780800000.0,1498867200000.0,1498953600000.0,1499040000000.0,1499126400000.0,1499212800000.0,1499299200000.0,1499385600000.0,1499472000000.0,1499558400000.0,1499644800000.0,1499731200000.0,1499817600000.0,1499904000000.0,1499990400000.0,1500076800000.0,1500163200000.0,1500249600000.0,1500336000000.0,1500422400000.0,1500508800000.0,1500595200000.0,1500681600000.0,1500768000000.0,1500854400000.0,1500940800000.0,1501027200000.0,1501113600000.0,1501200000000.0,1501286400000.0,1501372800000.0,1501459200000.0,1501545600000.0,1501632000000.0,1501718400000.0,1501804800000.0,1501891200000.0,1501977600000.0,1502064000000.0,1502150400000.0,1502236800000.0,1502323200000.0,1502409600000.0,1502496000000.0,1502582400000.0,1502668800000.0,1502755200000.0,1502841600000.0,1502928000000.0,1503014400000.0,1503100800000.0,1503187200000.0,1503273600000.0,1503360000000.0,1503446400000.0,1503532800000.0,1503619200000.0,1503705600000.0,1503792000000.0,1503878400000.0,1503964800000.0,1504051200000.0,1504137600000.0,1504224000000.0,1504310400000.0,1504396800000.0,1504483200000.0,1504569600000.0,1504656000000.0,1504742400000.0,1504828800000.0,1504915200000.0,1505001600000.0,1505088000000.0,1505174400000.0,1505260800000.0,1505347200000.0,1505433600000.0,1505520000000.0,1505606400000.0,1505692800000.0,1505779200000.0,1505865600000.0,1505952000000.0,1506038400000.0,1506124800000.0,1506211200000.0,1506297600000.0,1506384000000.0,1506470400000.0,1506556800000.0,1506643200000.0,1506729600000.0,1506816000000.0,1506902400000.0,1506988800000.0,1507075200000.0,1507161600000.0,1507248000000.0,1507334400000.0,1507420800000.0,1507507200000.0,1507593600000.0,1507680000000.0,1507766400000.0,1507852800000.0,1507939200000.0,1508025600000.0,1508112000000.0,1508198400000.0,1508284800000.0,1508371200000.0,1508457600000.0,1508544000000.0,1508630400000.0,1508716800000.0,1508803200000.0,1508889600000.0,1508976000000.0,1509062400000.0,1509148800000.0,1509235200000.0,1509321600000.0,1509408000000.0,1509494400000.0,1509580800000.0,1509667200000.0,1509753600000.0,1509840000000.0,1509926400000.0,1510012800000.0,1510099200000.0,1510185600000.0,1510272000000.0,1510358400000.0,1510444800000.0,1510531200000.0,1510617600000.0,1510704000000.0,1510790400000.0,1510876800000.0,1510963200000.0,1511049600000.0,1511136000000.0,1511222400000.0,1511308800000.0,1511395200000.0,1511481600000.0,1511568000000.0,1511654400000.0,1511740800000.0,1511827200000.0,1511913600000.0,1512000000000.0,1512086400000.0,1512172800000.0,1512259200000.0,1512345600000.0,1512432000000.0,1512518400000.0,1512604800000.0,1512691200000.0,1512777600000.0,1512864000000.0,1512950400000.0,1513036800000.0,1513123200000.0,1513209600000.0,1513296000000.0,1513382400000.0,1513468800000.0,1513555200000.0,1513641600000.0,1513728000000.0,1513814400000.0,1513900800000.0,1513987200000.0,1514073600000.0,1514160000000.0,1514246400000.0,1514332800000.0,1514419200000.0,1514505600000.0,1514592000000.0,1514678400000.0,1514764800000.0,1514851200000.0,1514937600000.0,1515024000000.0,1515110400000.0,1515196800000.0,1515283200000.0,1515369600000.0,1515456000000.0,1515542400000.0,1515628800000.0,1515715200000.0,1515801600000.0,1515888000000.0,1515974400000.0,1516060800000.0,1516147200000.0,1516233600000.0,1516320000000.0,1516406400000.0,1516492800000.0,1516579200000.0,1516665600000.0,1516752000000.0,1516838400000.0,1516924800000.0,1517011200000.0,1517097600000.0,1517184000000.0,1517270400000.0,1517356800000.0,1517443200000.0,1517529600000.0,1517616000000.0,1517702400000.0,1517788800000.0,1517875200000.0,1517961600000.0,1518048000000.0,1518134400000.0,1518220800000.0,1518307200000.0,1518393600000.0,1518480000000.0,1518566400000.0,1518652800000.0,1518739200000.0,1518825600000.0,1518912000000.0,1518998400000.0,1519084800000.0,1519171200000.0,1519257600000.0,1519344000000.0,1519430400000.0,1519516800000.0,1519603200000.0,1519689600000.0,1519776000000.0,1519862400000.0,1519948800000.0,1520035200000.0,1520121600000.0,1520208000000.0,1520294400000.0,1520380800000.0,1520467200000.0,1520553600000.0,1520640000000.0,1520726400000.0,1520812800000.0,1520899200000.0,1520985600000.0,1521072000000.0,1521158400000.0,1521244800000.0,1521331200000.0,1521417600000.0,1521504000000.0,1521590400000.0,1521676800000.0,1521763200000.0,1521849600000.0,1521936000000.0,1522022400000.0,1522108800000.0,1522195200000.0,1522281600000.0,1522368000000.0,1522454400000.0,1522540800000.0,1522627200000.0,1522713600000.0,1522800000000.0,1522886400000.0,1522972800000.0,1523059200000.0,1523145600000.0,1523232000000.0,1523318400000.0,1523404800000.0,1523491200000.0,1523577600000.0,1523664000000.0,1523750400000.0,1523836800000.0,1523923200000.0,1524009600000.0,1524096000000.0,1524182400000.0,1524268800000.0,1524355200000.0,1524441600000.0,1524528000000.0,1524614400000.0,1524700800000.0,1524787200000.0,1524873600000.0,1524960000000.0,1525046400000.0,1525132800000.0,1525219200000.0,1525305600000.0,1525392000000.0,1525478400000.0,1525564800000.0,1525651200000.0,1525737600000.0,1525824000000.0,1525910400000.0,1525996800000.0,1526083200000.0,1526169600000.0,1526256000000.0,1526342400000.0,1526428800000.0,1526515200000.0,1526601600000.0,1526688000000.0,1526774400000.0,1526860800000.0,1526947200000.0,1527033600000.0,1527120000000.0,1527206400000.0,1527292800000.0,1527379200000.0,1527465600000.0,1527552000000.0,1527638400000.0,1527724800000.0,1527811200000.0,1527897600000.0,1527984000000.0,1528070400000.0,1528156800000.0,1528243200000.0,1528329600000.0,1528416000000.0,1528502400000.0,1528588800000.0,1528675200000.0,1528761600000.0,1528848000000.0,1528934400000.0,1529020800000.0,1529107200000.0,1529193600000.0,1529280000000.0,1529366400000.0,1529452800000.0,1529539200000.0,1529625600000.0,1529712000000.0,1529798400000.0,1529884800000.0,1529971200000.0,1530057600000.0,1530144000000.0,1530230400000.0,1530316800000.0,1530403200000.0,1530489600000.0,1530576000000.0,1530662400000.0,1530748800000.0,1530835200000.0,1530921600000.0,1531008000000.0,1531094400000.0,1531180800000.0,1531267200000.0,1531353600000.0,1531440000000.0,1531526400000.0,1531612800000.0,1531699200000.0,1531785600000.0,1531872000000.0,1531958400000.0,1532044800000.0,1532131200000.0,1532217600000.0,1532304000000.0,1532390400000.0,1532476800000.0,1532563200000.0,1532649600000.0,1532736000000.0,1532822400000.0,1532908800000.0,1532995200000.0,1533081600000.0,1533168000000.0,1533254400000.0,1533340800000.0,1533427200000.0,1533513600000.0,1533600000000.0,1533686400000.0,1533772800000.0,1533859200000.0,1533945600000.0,1534032000000.0,1534118400000.0,1534204800000.0,1534291200000.0,1534377600000.0,1534464000000.0,1534550400000.0,1534636800000.0,1534723200000.0,1534809600000.0,1534896000000.0,1534982400000.0,1535068800000.0,1535155200000.0,1535241600000.0,1535328000000.0,1535414400000.0,1535500800000.0,1535587200000.0,1535673600000.0,1535760000000.0,1535846400000.0,1535932800000.0,1536019200000.0,1536105600000.0,1536192000000.0,1536278400000.0,1536364800000.0,1536451200000.0,1536537600000.0,1536624000000.0,1536710400000.0,1536796800000.0,1536883200000.0,1536969600000.0,1537056000000.0,1537142400000.0,1537228800000.0,1537315200000.0,1537401600000.0,1537488000000.0,1537574400000.0,1537660800000.0,1537747200000.0,1537833600000.0,1537920000000.0,1538006400000.0,1538092800000.0,1538179200000.0,1538265600000.0,1538352000000.0,1538438400000.0,1538524800000.0,1538611200000.0,1538697600000.0,1538784000000.0,1538870400000.0,1538956800000.0,1539043200000.0,1539129600000.0,1539216000000.0,1539302400000.0,1539388800000.0,1539475200000.0,1539561600000.0,1539648000000.0,1539734400000.0,1539820800000.0,1539907200000.0,1539993600000.0,1540080000000.0,1540166400000.0,1540252800000.0,1540339200000.0,1540425600000.0,1540512000000.0,1540598400000.0,1540684800000.0,1540771200000.0,1540857600000.0,1540944000000.0,1541030400000.0,1541116800000.0,1541203200000.0,1541289600000.0,1541376000000.0,1541462400000.0,1541548800000.0,1541635200000.0,1541721600000.0,1541808000000.0,1541894400000.0,1541980800000.0,1542067200000.0,1542153600000.0,1542240000000.0,1542326400000.0,1542412800000.0,1542499200000.0,1542585600000.0,1542672000000.0,1542758400000.0,1542844800000.0,1542931200000.0,1543017600000.0,1543104000000.0,1543190400000.0,1543276800000.0,1543363200000.0,1543449600000.0,1543536000000.0,1543622400000.0,1543708800000.0,1543795200000.0,1543881600000.0,1543968000000.0,1544054400000.0,1544140800000.0,1544227200000.0,1544313600000.0,1544400000000.0,1544486400000.0,1544572800000.0,1544659200000.0,1544745600000.0,1544832000000.0,1544918400000.0,1545004800000.0,1545091200000.0,1545177600000.0,1545264000000.0,1545350400000.0,1545436800000.0,1545523200000.0,1545609600000.0,1545696000000.0,1545782400000.0,1545868800000.0,1545955200000.0,1546041600000.0,1546128000000.0,1546214400000.0,1546300800000.0,1546387200000.0,1546473600000.0,1546560000000.0,1546646400000.0,1546732800000.0,1546819200000.0,1546905600000.0,1546992000000.0,1547078400000.0,1547164800000.0,1547251200000.0,1547337600000.0,1547424000000.0,1547510400000.0,1547596800000.0,1547683200000.0,1547769600000.0,1547856000000.0,1547942400000.0,1548028800000.0,1548115200000.0,1548201600000.0,1548288000000.0,1548374400000.0,1548460800000.0,1548547200000.0,1548633600000.0,1548720000000.0,1548806400000.0,1548892800000.0,1548979200000.0,1549065600000.0,1549152000000.0,1549238400000.0,1549324800000.0,1549411200000.0,1549497600000.0,1549584000000.0,1549670400000.0,1549756800000.0,1549843200000.0,1549929600000.0,1550016000000.0,1550102400000.0,1550188800000.0,1550275200000.0,1550361600000.0,1550448000000.0,1550534400000.0,1550620800000.0,1550707200000.0,1550793600000.0,1550880000000.0,1550966400000.0,1551052800000.0,1551139200000.0,1551225600000.0,1551312000000.0,1551398400000.0,1551484800000.0,1551571200000.0,1551657600000.0,1551744000000.0,1551830400000.0,1551916800000.0,1552003200000.0,1552089600000.0,1552176000000.0,1552262400000.0,1552348800000.0,1552435200000.0,1552521600000.0,1552608000000.0,1552694400000.0,1552780800000.0,1552867200000.0,1552953600000.0,1553040000000.0,1553126400000.0,1553212800000.0,1553299200000.0,1553385600000.0,1553472000000.0,1553558400000.0,1553644800000.0,1553731200000.0,1553817600000.0,1553904000000.0,1553990400000.0,1554076800000.0,1554163200000.0,1554249600000.0,1554336000000.0,1554422400000.0,1554508800000.0,1554595200000.0,1554681600000.0,1554768000000.0,1554854400000.0,1554940800000.0,1555027200000.0,1555113600000.0,1555200000000.0,1555286400000.0,1555372800000.0,1555459200000.0,1555545600000.0,1555632000000.0,1555718400000.0,1555804800000.0,1555891200000.0,1555977600000.0,1556064000000.0,1556150400000.0,1556236800000.0,1556323200000.0,1556409600000.0,1556496000000.0,1556582400000.0,1556668800000.0,1556755200000.0,1556841600000.0,1556928000000.0,1557014400000.0,1557100800000.0,1557187200000.0,1557273600000.0,1557360000000.0,1557446400000.0,1557532800000.0,1557619200000.0,1557705600000.0,1557792000000.0,1557878400000.0,1557964800000.0,1558051200000.0,1558137600000.0,1558224000000.0,1558310400000.0,1558396800000.0,1558483200000.0,1558569600000.0,1558656000000.0,1558742400000.0,1558828800000.0,1558915200000.0,1559001600000.0,1559088000000.0,1559174400000.0,1559260800000.0,1559347200000.0,1559433600000.0,1559520000000.0,1559606400000.0,1559692800000.0,1559779200000.0,1559865600000.0,1559952000000.0,1560038400000.0,1560124800000.0,1560211200000.0,1560297600000.0,1560384000000.0,1560470400000.0,1560556800000.0,1560643200000.0,1560729600000.0,1560816000000.0,1560902400000.0,1560988800000.0,1561075200000.0,1561161600000.0,1561248000000.0,1561334400000.0,1561420800000.0,1561507200000.0,1561593600000.0,1561680000000.0,1561766400000.0,1561852800000.0,1561939200000.0,1562025600000.0,1562112000000.0,1562198400000.0,1562284800000.0,1562371200000.0,1562457600000.0,1562544000000.0,1562630400000.0,1562716800000.0,1562803200000.0,1562889600000.0,1562976000000.0,1563062400000.0,1563148800000.0,1563235200000.0,1563321600000.0,1563408000000.0,1563494400000.0,1563580800000.0,1563667200000.0,1563753600000.0,1563840000000.0,1563926400000.0,1564012800000.0,1564099200000.0,1564185600000.0,1564272000000.0,1564358400000.0,1564444800000.0,1564531200000.0,1564617600000.0,1564704000000.0,1564790400000.0,1564876800000.0,1564963200000.0,1565049600000.0,1565136000000.0,1565222400000.0,1565308800000.0,1565395200000.0,1565481600000.0,1565568000000.0,1565654400000.0,1565740800000.0,1565827200000.0,1565913600000.0,1566000000000.0,1566086400000.0,1566172800000.0,1566259200000.0,1566345600000.0,1566432000000.0,1566518400000.0,1566604800000.0,1566691200000.0,1566777600000.0,1566864000000.0,1566950400000.0,1567036800000.0,1567123200000.0,1567209600000.0,1567296000000.0,1567382400000.0,1567468800000.0,1567555200000.0,1567641600000.0,1567728000000.0,1567814400000.0,1567900800000.0,1567987200000.0,1568073600000.0,1568160000000.0,1568246400000.0,1568332800000.0,1568419200000.0,1568505600000.0,1568592000000.0,1568678400000.0,1568764800000.0,1568851200000.0,1568937600000.0,1569024000000.0,1569110400000.0,1569196800000.0,1569283200000.0,1569369600000.0,1569456000000.0,1569542400000.0,1569628800000.0,1569715200000.0,1569801600000.0,1569888000000.0,1569974400000.0,1570060800000.0,1570147200000.0,1570233600000.0,1570320000000.0,1570406400000.0,1570492800000.0,1570579200000.0,1570665600000.0,1570752000000.0,1570838400000.0,1570924800000.0,1571011200000.0,1571097600000.0,1571184000000.0,1571270400000.0,1571356800000.0,1571443200000.0,1571529600000.0,1571616000000.0,1571702400000.0,1571788800000.0,1571875200000.0,1571961600000.0,1572048000000.0,1572134400000.0,1572220800000.0,1572307200000.0,1572393600000.0,1572480000000.0,1572566400000.0,1572652800000.0,1572739200000.0,1572825600000.0,1572912000000.0,1572998400000.0,1573084800000.0,1573171200000.0,1573257600000.0,1573344000000.0,1573430400000.0,1573516800000.0,1573603200000.0,1573689600000.0,1573776000000.0,1573862400000.0,1573948800000.0,1574035200000.0,1574121600000.0,1574208000000.0,1574294400000.0,1574380800000.0,1574467200000.0,1574553600000.0,1574640000000.0,1574726400000.0,1574812800000.0,1574899200000.0,1574985600000.0,1575072000000.0,1575158400000.0,1575244800000.0,1575331200000.0,1575417600000.0,1575504000000.0,1575590400000.0,1575676800000.0,1575763200000.0,1575849600000.0,1575936000000.0,1576022400000.0,1576108800000.0,1576195200000.0,1576281600000.0,1576368000000.0,1576454400000.0,1576540800000.0,1576627200000.0,1576713600000.0,1576800000000.0,1576886400000.0,1576972800000.0,1577059200000.0,1577145600000.0,1577232000000.0,1577318400000.0,1577404800000.0,1577491200000.0,1577577600000.0,1577664000000.0,1577750400000.0,1577836800000.0,1577923200000.0,1578009600000.0,1578096000000.0,1578182400000.0,1578268800000.0,1578355200000.0,1578441600000.0,1578528000000.0,1578614400000.0,1578700800000.0,1578787200000.0,1578873600000.0,1578960000000.0,1579046400000.0,1579132800000.0,1579219200000.0,1579305600000.0,1579392000000.0,1579478400000.0,1579564800000.0,1579651200000.0,1579737600000.0,1579824000000.0,1579910400000.0,1579996800000.0,1580083200000.0,1580169600000.0,1580256000000.0,1580342400000.0,1580428800000.0,1580515200000.0,1580601600000.0,1580688000000.0,1580774400000.0,1580860800000.0,1580947200000.0,1581033600000.0,1581120000000.0,1581206400000.0,1581292800000.0,1581379200000.0,1581465600000.0,1581552000000.0,1581638400000.0,1581724800000.0,1581811200000.0,1581897600000.0,1581984000000.0,1582070400000.0,1582156800000.0,1582243200000.0,1582329600000.0,1582416000000.0,1582502400000.0,1582588800000.0,1582675200000.0,1582761600000.0,1582848000000.0,1582934400000.0,1583020800000.0,1583107200000.0,1583193600000.0,1583280000000.0,1583366400000.0,1583452800000.0,1583539200000.0,1583625600000.0,1583712000000.0,1583798400000.0,1583884800000.0,1583971200000.0,1584057600000.0,1584144000000.0,1584230400000.0,1584316800000.0,1584403200000.0,1584489600000.0,1584576000000.0,1584662400000.0,1584748800000.0,1584835200000.0,1584921600000.0,1585008000000.0,1585094400000.0,1585180800000.0,1585267200000.0,1585353600000.0,1585440000000.0,1585526400000.0,1585612800000.0,1585699200000.0,1585785600000.0,1585872000000.0,1585958400000.0,1586044800000.0,1586131200000.0,1586217600000.0,1586304000000.0,1586390400000.0,1586476800000.0,1586563200000.0,1586649600000.0,1586736000000.0,1586822400000.0,1586908800000.0,1586995200000.0,1587081600000.0,1587168000000.0,1587254400000.0,1587340800000.0,1587427200000.0,1587513600000.0,1587600000000.0,1587686400000.0,1587772800000.0,1587859200000.0,1587945600000.0,1588032000000.0,1588118400000.0,1588204800000.0,1588291200000.0,1588377600000.0,1588464000000.0,1588550400000.0,1588636800000.0,1588723200000.0,1588809600000.0,1588896000000.0,1588982400000.0,1589068800000.0,1589155200000.0,1589241600000.0,1589328000000.0,1589414400000.0,1589500800000.0,1589587200000.0,1589673600000.0,1589760000000.0,1589846400000.0,1589932800000.0,1590019200000.0,1590105600000.0,1590192000000.0,1590278400000.0,1590364800000.0,1590451200000.0,1590537600000.0,1590624000000.0,1590710400000.0,1590796800000.0,1590883200000.0,1590969600000.0,1591056000000.0,1591142400000.0,1591228800000.0,1591315200000.0,1591401600000.0,1591488000000.0,1591574400000.0,1591660800000.0,1591747200000.0,1591833600000.0,1591920000000.0,1592006400000.0,1592092800000.0,1592179200000.0,1592265600000.0,1592352000000.0,1592438400000.0,1592524800000.0,1592611200000.0,1592697600000.0,1592784000000.0,1592870400000.0,1592956800000.0,1593043200000.0,1593129600000.0,1593216000000.0,1593302400000.0,1593388800000.0,1593475200000.0,1593561600000.0,1593648000000.0,1593734400000.0,1593820800000.0,1593907200000.0,1593993600000.0,1594080000000.0,1594166400000.0,1594252800000.0,1594339200000.0,1594425600000.0,1594512000000.0,1594598400000.0,1594684800000.0,1594771200000.0,1594857600000.0,1594944000000.0,1595030400000.0,1595116800000.0,1595203200000.0,1595289600000.0,1595376000000.0,1595462400000.0,1595548800000.0,1595635200000.0,1595721600000.0,1595808000000.0,1595894400000.0,1595980800000.0,1596067200000.0,1596153600000.0,1596240000000.0,1596326400000.0,1596412800000.0,1596499200000.0,1596585600000.0,1596672000000.0,1596758400000.0,1596844800000.0,1596931200000.0,1597017600000.0,1597104000000.0,1597190400000.0,1597276800000.0,1597363200000.0,1597449600000.0,1597536000000.0,1597622400000.0,1597708800000.0,1597795200000.0,1597881600000.0,1597968000000.0,1598054400000.0,1598140800000.0,1598227200000.0,1598313600000.0,1598400000000.0,1598486400000.0,1598572800000.0,1598659200000.0,1598745600000.0,1598832000000.0,1598918400000.0,1599004800000.0,1599091200000.0,1599177600000.0,1599264000000.0,1599350400000.0,1599436800000.0,1599523200000.0,1599609600000.0,1599696000000.0,1599782400000.0,1599868800000.0,1599955200000.0,1600041600000.0,1600128000000.0,1600214400000.0,1600300800000.0,1600387200000.0,1600473600000.0,1600560000000.0,1600646400000.0,1600732800000.0,1600819200000.0,1600905600000.0,1600992000000.0,1601078400000.0,1601164800000.0,1601251200000.0,1601337600000.0,1601424000000.0,1601510400000.0,1601596800000.0,1601683200000.0,1601769600000.0,1601856000000.0,1601942400000.0,1602028800000.0,1602115200000.0,1602201600000.0,1602288000000.0,1602374400000.0,1602460800000.0,1602547200000.0,1602633600000.0,1602720000000.0,1602806400000.0,1602892800000.0,1602979200000.0,1603065600000.0,1603152000000.0,1603238400000.0,1603324800000.0,1603411200000.0,1603497600000.0,1603584000000.0,1603670400000.0,1603756800000.0,1603843200000.0,1603929600000.0,1604016000000.0,1604102400000.0,1604188800000.0,1604275200000.0,1604361600000.0,1604448000000.0,1604534400000.0,1604620800000.0,1604707200000.0,1604793600000.0,1604880000000.0,1604966400000.0,1605052800000.0,1605139200000.0,1605225600000.0,1605312000000.0,1605398400000.0,1605484800000.0,1605571200000.0,1605657600000.0,1605744000000.0,1605830400000.0,1605916800000.0,1606003200000.0,1606089600000.0,1606176000000.0,1606262400000.0,1606348800000.0,1606435200000.0,1606521600000.0,1606608000000.0,1606694400000.0,1606780800000.0,1606867200000.0,1606953600000.0,1607040000000.0,1607126400000.0,1607212800000.0,1607299200000.0,1607385600000.0,1607472000000.0,1607558400000.0,1607644800000.0,1607731200000.0,1607817600000.0,1607904000000.0,1607990400000.0,1608076800000.0,1608163200000.0,1608249600000.0,1608336000000.0,1608422400000.0,1608508800000.0,1608595200000.0,1608681600000.0,1608768000000.0,1608854400000.0,1608940800000.0,1609027200000.0,1609113600000.0,1609200000000.0,1609286400000.0,1609372800000.0,1609459200000.0,1609545600000.0,1609632000000.0,1609718400000.0,1609804800000.0,1609891200000.0,1609977600000.0,1610064000000.0,1610150400000.0,1610236800000.0,1610323200000.0,1610409600000.0,1610496000000.0,1610582400000.0,1610668800000.0,1610755200000.0,1610841600000.0,1610928000000.0,1611014400000.0,1611100800000.0,1611187200000.0,1611273600000.0,1611360000000.0,1611446400000.0,1611532800000.0,1611619200000.0,1611705600000.0,1611792000000.0,1611878400000.0,1611964800000.0,1612051200000.0,1612137600000.0,1612224000000.0,1612310400000.0,1612396800000.0,1612483200000.0,1612569600000.0,1612656000000.0,1612742400000.0,1612828800000.0,1612915200000.0,1613001600000.0,1613088000000.0,1613174400000.0,1613260800000.0,1613347200000.0,1613433600000.0,1613520000000.0,1613606400000.0,1613692800000.0,1613779200000.0,1613865600000.0,1613952000000.0,1614038400000.0,1614124800000.0,1614211200000.0,1614297600000.0,1614384000000.0,1614470400000.0,1614556800000.0,1614643200000.0,1614729600000.0,1614816000000.0,1614902400000.0,1614988800000.0,1615075200000.0,1615161600000.0,1615248000000.0,1615334400000.0,1615420800000.0,1615507200000.0,1615593600000.0,1615680000000.0,1615766400000.0,1615852800000.0,1615939200000.0,1616025600000.0,1616112000000.0,1616198400000.0,1616284800000.0,1616371200000.0,1616457600000.0,1616544000000.0,1616630400000.0,1616716800000.0,1616803200000.0,1616889600000.0,1616976000000.0,1617062400000.0,1617148800000.0,1617235200000.0,1617321600000.0,1617408000000.0,1617494400000.0,1617580800000.0,1617667200000.0,1617753600000.0,1617840000000.0,1617926400000.0,1618012800000.0,1618099200000.0,1618185600000.0,1618272000000.0,1618358400000.0,1618444800000.0,1618531200000.0,1618617600000.0,1618704000000.0,1618790400000.0,1618876800000.0,1618963200000.0,1619049600000.0,1619136000000.0,1619222400000.0,1619308800000.0,1619395200000.0,1619481600000.0,1619568000000.0,1619654400000.0,1619740800000.0,1619827200000.0,1619913600000.0,1620000000000.0,1620086400000.0,1620172800000.0,1620259200000.0,1620345600000.0,1620432000000.0,1620518400000.0,1620604800000.0,1620691200000.0,1620777600000.0,1620864000000.0,1620950400000.0,1621036800000.0,1621123200000.0,1621209600000.0,1621296000000.0,1621382400000.0,1621468800000.0,1621555200000.0,1621641600000.0,1621728000000.0,1621814400000.0,1621900800000.0,1621987200000.0,1622073600000.0,1622160000000.0,1622246400000.0,1622332800000.0,1622419200000.0,1622505600000.0,1622592000000.0],\"y\":[1,0,0,0,0,0,0,0,0,0,0,0,0,0,0,0,0,0,0,0,0,0,0,0,0,0,0,0,0,0,0,0,0,0,0,0,0,0,0,0,0,0,0,0,0,0,0,0,0,0,0,0,0,0,0,0,0,0,0,0,0,0,0,0,0,0,0,0,0,0,0,0,0,0,0,0,0,0,0,0,0,0,0,0,0,0,0,0,0,0,0,0,0,0,0,0,0,0,0,0,0,0,0,0,0,0,0,0,0,0,0,0,0,0,0,0,0,0,0,0,0,0,0,0,0,0,0,0,0,0,0,0,0,0,0,0,0,0,0,0,0,0,0,0,0,0,0,0,0,0,0,0,0,0,0,0,0,0,0,0,0,0,0,0,0,0,0,0,0,0,0,0,0,0,0,0,0,0,0,0,0,0,0,0,0,0,0,0,0,0,0,0,0,0,0,0,0,0,0,0,0,0,0,0,0,0,0,0,0,0,0,0,0,0,0,0,0,0,0,0,0,0,0,0,0,0,0,0,0,0,0,0,0,0,0,0,0,0,0,0,0,0,0,0,0,0,0,0,0,0,0,0,0,0,0,0,0,0,0,0,0,0,0,0,0,0,0,0,0,0,0,0,0,0,0,0,0,0,0,0,0,0,0,0,0,0,0,0,0,0,0,0,0,0,0,0,0,0,0,0,0,0,0,0,0,0,0,0,0,0,0,0,0,0,0,0,0,0,0,0,0,0,0,0,0,0,0,0,0,0,0,0,0,0,0,0,0,0,0,0,0,0,0,0,0,0,0,0,0,0,0,0,0,0,0,0,0,0,0,0,0,0,0,0,0,0,0,0,0,0,0,0,0,0,0,0,0,0,0,0,0,0,0,0,0,0,0,0,0,0,0,0,0,0,0,0,0,0,0,0,0,0,0,0,0,0,0,0,0,0,0,0,0,0,0,0,0,0,0,0,0,0,0,0,0,0,0,0,0,0,0,0,0,0,0,0,0,0,0,0,0,0,0,0,0,0,0,0,0,0,0,0,0,0,0,0,0,0,0,0,0,0,0,0,0,0,0,0,0,0,0,0,0,0,0,0,0,0,0,0,0,0,0,0,0,0,0,0,0,0,0,0,0,0,0,0,0,0,0,0,0,0,0,0,0,0,0,0,0,0,0,0,0,0,0,0,0,0,0,0,0,0,0,0,0,0,0,0,0,0,0,0,0,0,0,0,0,0,0,0,0,0,0,0,0,0,0,0,0,0,0,0,0,0,0,0,0,0,0,0,0,0,0,0,0,0,0,0,0,0,0,0,0,0,0,0,0,0,0,0,0,0,0,0,0,0,0,0,0,0,0,0,0,0,0,0,0,0,0,0,0,0,0,0,0,0,0,0,0,0,0,0,0,0,0,0,0,0,0,0,0,0,0,0,0,0,0,0,0,0,0,0,0,0,0,0,0,0,0,0,0,0,0,0,0,0,0,0,0,0,0,0,0,0,0,0,0,0,0,0,0,0,0,0,0,0,0,0,0,0,0,0,0,0,0,0,0,0,0,0,0,0,0,0,0,0,0,0,0,0,0,0,0,0,0,0,0,0,0,0,0,0,0,0,0,0,0,0,0,0,0,0,0,0,0,0,0,0,0,0,0,0,0,0,0,0,0,0,0,0,0,0,0,0,0,0,0,0,0,0,0,0,0,0,0,0,0,0,0,0,0,0,0,0,0,0,0,0,0,0,0,0,0,0,0,0,0,0,0,0,0,0,0,0,0,0,0,0,0,0,0,0,0,0,0,0,0,0,0,0,0,0,0,0,0,0,0,0,0,0,0,0,0,0,0,0,0,0,0,0,0,0,0,0,0,0,0,0,0,0,0,0,0,0,0,0,0,0,0,0,0,0,0,0,0,0,0,0,0,0,0,0,0,0,0,0,0,0,0,0,0,0,0,0,0,0,0,0,0,0,0,0,0,0,0,0,0,0,0,0,0,0,0,0,0,0,0,0,0,0,0,0,0,0,0,0,0,0,0,0,0,0,0,0,0,0,0,0,0,0,0,0,0,0,0,0,0,0,0,0,0,0,0,0,0,0,0,0,0,0,0,0,0,0,0,0,0,0,0,0,0,0,0,0,0,0,0,0,0,0,0,0,0,0,0,0,0,0,0,0,0,0,0,0,0,0,0,0,0,0,0,0,0,0,0,0,0,0,0,0,0,0,0,0,0,0,0,0,0,0,0,0,0,0,0,0,0,0,0,0,0,0,0,0,0,0,0,0,0,0,0,0,0,0,0,0,0,0,0,0,0,0,0,0,0,0,0,0,0,0,0,0,0,0,0,0,0,0,0,0,0,0,0,0,0,0,0,0,0,1,0,0,0,0,0,0,0,0,0,0,0,0,0,0,0,0,0,0,0,0,0,0,0,0,0,0,0,0,0,0,0,0,0,0,0,0,0,0,0,0,0,0,0,0,0,0,0,0,0,0,0,0,0,0,0,0,0,0,0,0,0,0,0,0,0,0,0,0,0,0,0,0,0,0,0,0,0,0,0,0,0,0,0,0,0,0,0,0,0,0,0,0,0,0,0,0,0,0,0,0,0,0,0,0,0,0,0,0,0,0,0,0,0,0,0,0,0,0,0,0,0,0,0,0,0,0,0,0,0,0,0,0,0,0,0,0,0,0,0,0,0,0,0,0,0,0,0,0,0,0,0,0,0,0,0,0,0,0,0,0,0,0,0,0,0,0,0,0,0,0,0,0,0,0,0,0,0,0,0,0,0,0,0,0,0,0,0,0,0,0,0,0,0,0,0,0,0,0,0,0,0,0,0,0,0,0,0,0,0,0,0,0,0,0,0,0,0,0,0,0,0,0,0,0,0,0,0,0,0,0,0,0,0,0,0,0,0,0,0,0,0,0,0,0,0,0,0,0,0,0,0,0,0,0,0,0,0,0,0,0,0,0,0,0,0,0,0,0,0,0,0,0,0,0,0,0,0,0,0,0,0,0,0,0,0,0,0,0,0,0,0,0,0,0,0,0,0,0,0,0,0,0,0,0,0,0,0,0,0,0,0,0,0,0,0,0,0,0,0,0,0,0,0,0,0,0,0,0,0,0,0,0,0,0,0,0,0,0,0,0,0,0,0,0,0,0,0,0,0,0,0,0,0,0,0,0,0,0,0,0,0,0,0,0,1,13,0,0,0,0,0,0,0,0,0,0,0,0,0,0,0,0,0,0,0,0,0,0,0,0,0,0,0,0,0,0,0,0,0,0,0,0,0,0,0,0,0,0,0,0,0,0,0,0,0,0,0,0,0,0,0,0,0,0,0,0,0,0,0,0,0,0,0,0,0,0,0,0,0,0,0,0,0,0,0,0,0,0,0,0,0,0,0,0,0,0,0,0,0,0,0,0,0,0,0,0,0,0,0,0,0,0,0,0,0,0,0,0,0,0,0,0,0,0,0,0,0,0,0,0,0,0,0,0,0,0,0,0,0,0,0,0,0,0,0,0,0,0,0,0,0,0,0,0,0,0,0,0,0,0,0,0,0,0,0,0,0,0,0,0,0,0,0,0,0,0,0,0,0,0,0,0,0,0,0,0,0,0,0,0,0,0,0,0,0,0,0,0,0,0,0,0,0,0,0,0,0,0,0,0,0,0,0,0,0,0,0,0,0,0,0,0,0,0,0,0,0,0,0,0,0,0,0,0,0,0,0,0,0,0,0,0,0,0,0,0,0,0,0,0,0,0,0,0,0,0,0,0,0,0,0,0,0,0,0,0,0,0,0,0,0,0,0,0,0,0,0,0,0,0,0,0,0,0,0,0,0,0,0,0,0,0,0,0,0,0,0,0,0,0,0,0,0,0,0,0,0,0,0,0,0,0,0,0,0,0,0,0,0,0,0,0,0,0,0,0,0,0,0,0,0,0,0,0,0,0,0,0,0,0,0,0,0,0,0,0,0,0,0,0,0,0,0,0,0,0,0,0,0,0,0,0,0,0,0,0,0,0,0,0,0,0,0,0,0,0,0,17,0,1,0,0,0,0,0,0,0,0,0,0,0,0,0,0,0,0,0,0,0,0,0,0,0,0,0,0,0,0,0,0,0,0,0,0,0,0,0,0,0,0,0,0,0,0,0,0,0,0,0,0,0,0,0,0,0,0,0,0,0,0,0,0,0,0,0,0,0,0,0,0,0,0,0,0,0,0,0,0,0,0,0,0,0,0,0,0,0,0,0,0,0,0,0,0,0,0,0,0,0,0,0,0,0,0,0,0,0,0,0,1,0,0,0,1,0,0,0,0,0,0,0,0,0,0,0,0,0,0,0,0,0,0,0,0,0,0,0,0,0,0,0,0,0,0,0,0,0,0,0,0,0,0,0,0,0,0,0,0,0,0,0,0,0,0,0,0,0,0,0,0,0,0,0,0,0,0,0,0,0,0,0,0,0,0,0,0,0,0,0,0,0,0,0,0,0,0,0,0,0,0,0,0,0,0,0,0,0,0,0,0,0,0,0,0,0,0,0,0,0,0,0,0,0,0,0,0,0,0,0,0,1,0,0,0,0,0,0,0,0,0,0,0,0,0,0,0,0,0,0,0,0,0,0,0,0,0,0,0,0,0,0,0,0,0,0,0,0,0,0,0,0,0,0,0,0,0,0,0,0,0,0,0,0,0,0,0,0,0,0,0,0,0,0,0,0,0,0,0,0,0,0,0,0,0,0,0,0,0,0,1,0,0,0,0,0,0,0,0,0,0,0,0,0,0,0,0,0,0,0,0,0,0,0,0,0,0,0,0,0,0,0,0,0,0,0,0,1,0,0,0,0,0,0,0,0,0,0,0,0,0,0,0,0,0,0,0,0,0,0,0,0,0,0,0,0,0,0,0,0,1,0,0,0,0,0,0,0,0,0,0,0,0,0,0,0,0,0,0,0,0,0,0,0,0,0,0,0,0,0,0,0,0,0,0,0,0,0,0,0,0,0,0,0,0,0,0,0,0,0,0,0,0,0,0,0,0,0,0,0,0,0,0,0,0,0,0,0,0,0,0,0,0,0,0,0,0,0,0,0,0,0,0,0,0,0,0,0,1,0,0,0,0,0,0,0,0,0,0,0,0,0,0,0,0,0,0,0,0,0,0,0,0,0,0,0,0,0,0,0,0,0,0,0,0,0,0,0,0,0,0,0,0,0,0,0,1,0,0,0,0,0,0,0,0,0,0,0,0,0,0,0,0,0,0,0,0,0,0,0,0,0,0,0,0,0,0,0,0,0,0,0,0,0,0,0,0,0,0,0,0,0,0,0,0,0,0,0,0,0,0,0,0,0,0,0,0,0,0,0,0,0,0,0,0,0,0,0,0,0,0,0,0,0,0,0,0,0,0,0,0,0,0,0,0,0,0,0,0,0,0,0,0,0,0,0,0,0,0,0,0,0,0,0,0,0,0,0,0,0,0,0,0,0,0,0,0,0,0,0,0,0,1,0,0,0,0,0,0,0,0,0,0,0,0,0,0,0,0,0,0,0,0,0,0,0,0,0,0,0,0,0,0,0,0,0,0,0,0,0,0,0,0,0,0,0,0,0,0,0,0,0,0,0,0,0,0,0,0,0,0,0,0,0,0,0,0,0,0,0,0,0,0,0,0,0,0,0,0,0,0,0,0,0,0,0,0,0,0,0,0,0,0,0,0,0,0,0,0,0,0,0,0,0,0,0,0,0,0,1,0,0,0,0,0,0,0,0,0,0,0,0,0,0,0,0,0,0,0,0,0,0,0,0,0,0,0,0,0,0,0,0,0,0,0,0,0,0,0,0,0,0,0,0,0,0,0,0,0,0,0,0,0,0,0,0,0,0,0,0,0,0,0,0,0,0,0,0,0,0,0,0,0,0,0,0,0,0,0,0,0,0,0,0,0,0,0,0,0,0,0,0,0,0,0,0,0,0,0,0,0,0,0,0,0,0,0,0,0,0,0,0,0,0,0,0,0,0,0,0,0,0,0,0,0,0,0,0,0,0,0,0,0,0,0,0,0,0,0,0,0,0,0,0,0,0,0,0,0,0,0,0,0,0,0,0,0,0,0,0,0,0,0,0,0,0,0,0,0,0,0,0,0,0,0,0,0,0,0,0,0,0,0,0,0,0,0,0,0,0,0,0,0,0,0,0,0,0,0,0,0,0,0,1,0,0,0,0,0,0,0,0,0,0,0,0,0,0,0,0,0,0,0,0,0,0,0,0,0,0,0,0,0,0,0,0,0,0,0,0,0,0,0,0,7,0,0,0,0,0,0,0,0,0,0,0,0,0,0,0,0,0,0,0,0,0,0,0,0,0,0,0,0,0,0,0,0,0,0,0,0,0,0,0,0,0,0,0,0,0,0,0,0,0,0,0,0,0,0,1,0,0,0,0,0,0,0,1,0,0,0,0,0,0,0,0,0,0,0,0,0,0,0,0,0,4,0,0,0,0,0,0,0,0,0,0,0,0,0,0,0,0,0,0,0,0,0,0,0,0,0,0,0,0,0,0,0,0,0,0,0,0,0,0,0,0,0,0,0,0,0,0,0,0,0,0,0,1,0,0,0,0,1,0,0,0,0,0,0,0,0,0,0,0,1,0,0,0,0,0,0,0,0,0,0,0,0,0,0,0,0,0,0,0,0,0,0,0,1,0,0,0,0,0,0,0,0,0,0,0,0,0,0,0,0,0,0,0,1,0,0,0,0,0,0,0,0,0,0,0,0,0,0,0,0,0,0,1,0,0,0,1,1,92,572,708,734,718,735,726,738,624,749,655,748,700,610,1199,1090,1567,1522,1520,1497,1472,1090,1072,1102,1529,1472,1559,1556,1136,1124,1487,1472,1417,1530,1508,1125,1054,1489,1484,1455,1514,1466,1176,1102,1541,1534,1527,1300,1053,616,943,1495,1581,1492,1264,1434,1210,1163,1561,1572,1642,1536,1612,1267,1124,1502,1577,1560,1514,1620,1139,1134,1630,1577,1623,1585,1519,1235,1143,1522,1583,1481,1318,1000,1143,1064,1373,1391,1334,1288,1109,1111,1057,1480,1549,1492,1551,1562,1168,1103,1535,1583,1589,1598,1654,1211,1114,1349,1551,1532,1530,1596,1152,1058,1531,1562,1546,1515,1549,1202,1085,1543,1519,1616,1576,1577,1154,1090,1549,1515,1583,1548,1596,1173,1112,1396,1546,1568,1566,1585,1171,1120,1600,1541,1554,1596,1605,1153,1096,1585,1540,1592,1604,1646,1216,1115,1687,1708,1718,1755,1699,1248,1186,1699,1764,1628,1721,1707,1233,1210,1775,1695,1680,1722,1792,1232,1211,1743,1746,1779,1740,1663,1172,1139,1611,1734,1679,1610,1660,1100,1089,1722,1697,1662,1649,1587,1176,1146,1468,237,16,164,1081,1253,1185,1744,1689,1765,1682,1667,1293,1246,1645,1653,1735,1771,1661,1207,1131,1651,1669,1719,1679,1652,1198,1129,1767,1709,1660,1730,1710,1179,1190,1670,1633,1676,1701,1655,1173,1104,1321,1590,240]},\"selected\":{\"id\":\"1043\"},\"selection_policy\":{\"id\":\"1044\"}},\"id\":\"1032\",\"type\":\"ColumnDataSource\"},{\"attributes\":{},\"id\":\"1043\",\"type\":\"Selection\"},{\"attributes\":{\"days\":[1,4,7,10,13,16,19,22,25,28]},\"id\":\"1049\",\"type\":\"DaysTicker\"},{\"attributes\":{\"overlay\":{\"id\":\"1042\"}},\"id\":\"1023\",\"type\":\"BoxZoomTool\"},{\"attributes\":{},\"id\":\"1008\",\"type\":\"DataRange1d\"},{\"attributes\":{},\"id\":\"1040\",\"type\":\"DatetimeTickFormatter\"},{\"attributes\":{\"days\":[1,8,15,22]},\"id\":\"1050\",\"type\":\"DaysTicker\"},{\"attributes\":{\"months\":[0,1,2,3,4,5,6,7,8,9,10,11]},\"id\":\"1052\",\"type\":\"MonthsTicker\"},{\"attributes\":{\"days\":[1,2,3,4,5,6,7,8,9,10,11,12,13,14,15,16,17,18,19,20,21,22,23,24,25,26,27,28,29,30,31]},\"id\":\"1048\",\"type\":\"DaysTicker\"},{\"attributes\":{\"mantissas\":[1,2,5],\"max_interval\":500.0,\"num_minor_ticks\":0},\"id\":\"1045\",\"type\":\"AdaptiveTicker\"},{\"attributes\":{},\"id\":\"1022\",\"type\":\"PanTool\"},{\"attributes\":{},\"id\":\"1044\",\"type\":\"UnionRenderers\"},{\"attributes\":{},\"id\":\"1019\",\"type\":\"BasicTicker\"},{\"attributes\":{},\"id\":\"1006\",\"type\":\"DataRange1d\"},{\"attributes\":{\"axis_label\":\"Time\",\"formatter\":{\"id\":\"1040\"},\"ticker\":{\"id\":\"1015\"}},\"id\":\"1014\",\"type\":\"DatetimeAxis\"},{\"attributes\":{\"line_color\":\"#1f77b4\",\"x\":{\"field\":\"x\"},\"y\":{\"field\":\"y\"}},\"id\":\"1033\",\"type\":\"Line\"},{\"attributes\":{\"active_drag\":\"auto\",\"active_inspect\":\"auto\",\"active_multi\":null,\"active_scroll\":\"auto\",\"active_tap\":\"auto\",\"tools\":[{\"id\":\"1002\"},{\"id\":\"1022\"},{\"id\":\"1023\"},{\"id\":\"1024\"},{\"id\":\"1025\"}]},\"id\":\"1026\",\"type\":\"Toolbar\"},{\"attributes\":{\"axis_label\":\"Number of Documents\",\"formatter\":{\"id\":\"1038\"},\"ticker\":{\"id\":\"1019\"}},\"id\":\"1018\",\"type\":\"LinearAxis\"},{\"attributes\":{\"source\":{\"id\":\"1032\"}},\"id\":\"1036\",\"type\":\"CDSView\"},{\"attributes\":{\"num_minor_ticks\":5,\"tickers\":[{\"id\":\"1045\"},{\"id\":\"1046\"},{\"id\":\"1047\"},{\"id\":\"1048\"},{\"id\":\"1049\"},{\"id\":\"1050\"},{\"id\":\"1051\"},{\"id\":\"1052\"},{\"id\":\"1053\"},{\"id\":\"1054\"},{\"id\":\"1055\"},{\"id\":\"1056\"}]},\"id\":\"1015\",\"type\":\"DatetimeTicker\"},{\"attributes\":{\"base\":24,\"mantissas\":[1,2,4,6,8,12],\"max_interval\":43200000.0,\"min_interval\":3600000.0,\"num_minor_ticks\":0},\"id\":\"1047\",\"type\":\"AdaptiveTicker\"},{\"attributes\":{\"days\":[1,15]},\"id\":\"1051\",\"type\":\"DaysTicker\"},{\"attributes\":{},\"id\":\"1012\",\"type\":\"LinearScale\"},{\"attributes\":{\"bottom_units\":\"screen\",\"fill_alpha\":0.5,\"fill_color\":\"lightgrey\",\"left_units\":\"screen\",\"level\":\"overlay\",\"line_alpha\":1.0,\"line_color\":\"black\",\"line_dash\":[4,4],\"line_width\":2,\"render_mode\":\"css\",\"right_units\":\"screen\",\"top_units\":\"screen\"},\"id\":\"1042\",\"type\":\"BoxAnnotation\"},{\"attributes\":{\"axis\":{\"id\":\"1018\"},\"dimension\":1,\"grid_line_alpha\":0.5,\"ticker\":null},\"id\":\"1021\",\"type\":\"Grid\"},{\"attributes\":{},\"id\":\"1038\",\"type\":\"BasicTickFormatter\"}],\"root_ids\":[\"1003\"]},\"title\":\"Bokeh Application\",\"version\":\"2.0.0\"}};\n  var render_items = [{\"docid\":\"e4314374-8a27-454a-8930-fe853ba34e56\",\"root_ids\":[\"1003\"],\"roots\":{\"1003\":\"82e7db4f-b804-4c11-a256-4f2c704b8f02\"}}];\n  root.Bokeh.embed.embed_items_notebook(docs_json, render_items);\n\n  }\n  if (root.Bokeh !== undefined) {\n    embed_document(root);\n  } else {\n    var attempts = 0;\n    var timer = setInterval(function(root) {\n      if (root.Bokeh !== undefined) {\n        clearInterval(timer);\n        embed_document(root);\n      } else {\n        attempts++;\n        if (attempts > 100) {\n          clearInterval(timer);\n          console.log(\"Bokeh: ERROR: Unable to run BokehJS code because BokehJS library is missing\");\n        }\n      }\n    }, 10, root)\n  }\n})(window);",
      "application/vnd.bokehjs_exec.v0+json": ""
     },
     "metadata": {
      "application/vnd.bokehjs_exec.v0+json": {
       "id": "1003"
      }
     }
    }
   ],
   "metadata": {}
  },
  {
   "cell_type": "markdown",
   "source": [
    "## Source\n",
    "Where do news articles come from?"
   ],
   "metadata": {}
  },
  {
   "cell_type": "code",
   "execution_count": 13,
   "source": [
    "# Plot number of documents per source\n",
    "result = es.search(\n",
    "    {\n",
    "        \"size\": 0,\n",
    "         \"aggs\": {\n",
    "             \"group_by_source\": {\n",
    "                 \"terms\": {\n",
    "                     \"field\": \"source\",\n",
    "                     \"size\": 50\n",
    "                 }\n",
    "             }\n",
    "         }\n",
    "    },\n",
    "    index=\"document\"\n",
    ")['aggregations']['group_by_source']['buckets']\n",
    "counts = dict(list(map(lambda x: list(x.values()), result)))\n",
    "counts"
   ],
   "outputs": [
    {
     "output_type": "execute_result",
     "data": {
      "text/plain": [
       "{'business-insider': 23995,\n",
       " 'bleacher-report': 15635,\n",
       " 'techradar': 10137,\n",
       " 'techcrunch': 9523,\n",
       " 'buzzfeed': 8991,\n",
       " 'bloomberg': 8860,\n",
       " 'the-verge': 8244,\n",
       " 'reuters': 7422,\n",
       " 'cbs-news': 7094,\n",
       " 'usa-today': 6999,\n",
       " 'fox-news': 6994,\n",
       " 'engadget': 6942,\n",
       " 'mashable': 6225,\n",
       " 'independent': 6054,\n",
       " 'football-italia': 5061,\n",
       " 'the-irish-times': 4999,\n",
       " 'the-times-of-india': 4754,\n",
       " 'the-hindu': 4283,\n",
       " 'the-wall-street-journal': 4184,\n",
       " 'polygon': 3895,\n",
       " 'ign': 3888,\n",
       " 'cnn': 3406,\n",
       " 'ars-technica': 3231,\n",
       " 'the-hill': 3037,\n",
       " 'fox-sports': 2900,\n",
       " 'abc-news': 2546,\n",
       " 'wired': 2349,\n",
       " 'nbc-news': 2347,\n",
       " 'associated-press': 2342,\n",
       " 'the-next-web': 2232,\n",
       " 'newsweek': 2197,\n",
       " 'bbc-news': 2134,\n",
       " 'the-washington-post': 2074,\n",
       " 'cbc-news': 2020,\n",
       " 'espn-cric-info': 1960,\n",
       " 'news24': 1850,\n",
       " 'abc-news-au': 1709,\n",
       " 'new-scientist': 1640,\n",
       " 'entertainment-weekly': 1407,\n",
       " 'rte': 1047,\n",
       " 'al-jazeera-english': 1023,\n",
       " 'politico': 1010,\n",
       " 'hacker-news': 860,\n",
       " 'financial-post': 800,\n",
       " 'vice-news': 735,\n",
       " 'next-big-future': 592,\n",
       " 'axios': 542,\n",
       " 'breitbart-news': 531,\n",
       " 'nfl-news': 476,\n",
       " 'mtv-news': 424}"
      ]
     },
     "metadata": {},
     "execution_count": 13
    }
   ],
   "metadata": {}
  },
  {
   "cell_type": "code",
   "execution_count": null,
   "source": [],
   "outputs": [],
   "metadata": {}
  }
 ],
 "metadata": {
  "kernelspec": {
   "name": "python3",
   "display_name": "Python 3.7.9 64-bit ('mapintel': conda)"
  },
  "language_info": {
   "codemirror_mode": {
    "name": "ipython",
    "version": 3
   },
   "file_extension": ".py",
   "mimetype": "text/x-python",
   "name": "python",
   "nbconvert_exporter": "python",
   "pygments_lexer": "ipython3",
   "version": "3.7.9"
  },
  "interpreter": {
   "hash": "504fd31cceb030d7725fcaa88967d2761a13fad9223b00e45e0d00d21852abc2"
  }
 },
 "nbformat": 4,
 "nbformat_minor": 4
}