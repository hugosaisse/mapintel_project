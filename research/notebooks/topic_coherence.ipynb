{
 "cells": [
  {
   "cell_type": "markdown",
   "id": "07370f93",
   "metadata": {},
   "source": [
    "# Description:\n",
    "In this notebook we compute the topic coherence of the topics obtained by BERTopic on the newsapi corpus."
   ]
  },
  {
   "cell_type": "code",
   "execution_count": 1,
   "id": "581571c4",
   "metadata": {},
   "outputs": [],
   "source": [
    "from requests import request\n",
    "from gensim.corpora.dictionary import Dictionary\n",
    "from gensim.models.coherencemodel import CoherenceModel\n",
    "import json"
   ]
  },
  {
   "cell_type": "code",
   "execution_count": 3,
   "id": "2755a5c3",
   "metadata": {},
   "outputs": [
    {
     "name": "stdout",
     "output_type": "stream",
     "text": [
      "Begin generator.\n",
      "Iteration done: 10000.\n",
      "Iteration done: 10000.\n",
      "Iteration done: 20000.\n",
      "Iteration done: 20000.\n",
      "Iteration done: 30000.\n",
      "Iteration done: 30000.\n",
      "Iteration done: 40000.\n",
      "Iteration done: 40000.\n",
      "Iteration done: 50000.\n",
      "Iteration done: 50000.\n",
      "Iteration done: 60000.\n",
      "Iteration done: 60000.\n",
      "Iteration done: 70000.\n",
      "Iteration done: 70000.\n",
      "Iteration done: 80000.\n",
      "Iteration done: 80000.\n",
      "Iteration done: 90000.\n",
      "Iteration done: 90000.\n",
      "Iteration done: 100000.\n",
      "Iteration done: 100000.\n",
      "Iteration done: 110000.\n",
      "Iteration done: 110000.\n",
      "Iteration done: 120000.\n",
      "Iteration done: 120000.\n",
      "Iteration done: 130000.\n",
      "Iteration done: 130000.\n",
      "Iteration done: 140000.\n",
      "Iteration done: 140000.\n",
      "Iteration done: 150000.\n",
      "Iteration done: 150000.\n",
      "Iteration done: 160000.\n",
      "Iteration done: 160000.\n",
      "Iteration done: 170000.\n",
      "Iteration done: 170000.\n",
      "Iteration done: 180000.\n",
      "Iteration done: 180000.\n",
      "Iteration done: 190000.\n",
      "Iteration done: 190000.\n",
      "Iteration done: 200000.\n",
      "Iteration done: 200000.\n",
      "Iteration done: 210000.\n",
      "Iteration done: 210000.\n",
      "Iteration done: 220000.\n",
      "Iteration done: 220000.\n",
      "Iteration done: 230000.\n",
      "Iteration done: 230000.\n",
      "Iteration done: 240000.\n",
      "Iteration done: 240000.\n",
      "Iteration done: 250000.\n",
      "Iteration done: 250000.\n",
      "Iteration done: 260000.\n",
      "Iteration done: 260000.\n",
      "Iteration done: 270000.\n",
      "Iteration done: 270000.\n",
      "Iteration done: 280000.\n",
      "Iteration done: 280000.\n",
      "Iteration done: 290000.\n",
      "Iteration done: 290000.\n",
      "Iteration done: 300000.\n",
      "Iteration done: 300000.\n",
      "Iteration done: 310000.\n",
      "Iteration done: 310000.\n",
      "Iteration done: 320000.\n",
      "Iteration done: 320000.\n",
      "Iteration done: 330000.\n",
      "Iteration done: 330000.\n"
     ]
    }
   ],
   "source": [
    "# Get documents\n",
    "req = {\"filters\": [], \"batch_size\": 10000}\n",
    "response_generator = request('get', url='http://0.0.0.0:8000/all-docs-generator', json=req, stream=True).\\\n",
    "    iter_lines(delimiter=b\"#SEP#\")\n",
    "\n",
    "docs = []\n",
    "i = 0\n",
    "for line in response_generator:\n",
    "    if i % req['batch_size'] == 0:\n",
    "        if i == 0:\n",
    "            print(\"Begin generator.\")\n",
    "        else:\n",
    "            print(f\"Iteration done: {i}.\")\n",
    "    # Filter out keep-alive new lines\n",
    "    if line:\n",
    "        doc = json.loads(line.decode('utf-8'))\n",
    "        answer = doc[\"answer\"]\n",
    "        if answer:\n",
    "            docs.append(answer.replace('#SEPTAG#', ' '))\n",
    "            i += 1"
   ]
  },
  {
   "cell_type": "code",
   "execution_count": 5,
   "id": "6268562d",
   "metadata": {},
   "outputs": [],
   "source": [
    "# Get texts and dictionary\n",
    "texts = list(map(lambda x: x.split(' '), docs))\n",
    "dictionary = Dictionary(texts)"
   ]
  },
  {
   "cell_type": "code",
   "execution_count": 6,
   "id": "d3e72322",
   "metadata": {},
   "outputs": [],
   "source": [
    "# Get tokenized topics\n",
    "r = request('get', url='http://0.0.0.0:8000/topic-names').json()\n",
    "topics = [i.split('_')[1:] for i in r['topic_names']][1:]"
   ]
  },
  {
   "cell_type": "code",
   "execution_count": 29,
   "id": "45a7c774",
   "metadata": {},
   "outputs": [],
   "source": [
    "# Compute the coherence for each topic\n",
    "cm = CoherenceModel(\n",
    "    topics=topics, \n",
    "    texts=texts, \n",
    "    dictionary=dictionary, \n",
    "    coherence='c_v',\n",
    "    topn=5\n",
    ")\n",
    "\n",
    "coherences = dict(zip([\" \".join(t) for t in topics], cm.get_coherence_per_topic()))"
   ]
  },
  {
   "cell_type": "code",
   "execution_count": 30,
   "id": "115037e4",
   "metadata": {},
   "outputs": [
    {
     "data": {
      "text/plain": [
       "{'covid covid 19 vaccine coronavirus': 0.6439541664091119,\n",
       " 'netflix old actor movie': 0.22302934121499937,\n",
       " 'nfl football team coach': 0.3589343094716429,\n",
       " 'trump election republican elect': 0.12039803721881434,\n",
       " 'nba lakers james warriors': 1.0,\n",
       " 'bitcoin cyberpunk 2077 cyberpunk 2077': 0.3361138688779574,\n",
       " 'stocks china stock market': 0.41290678380036705,\n",
       " 'space nasa spacex planet': 0.3137676472816739,\n",
       " 'apple iphone iphone 12 oneplus': 1.0,\n",
       " 'nintendo xbox game ps5': 1.0,\n",
       " 'prince johnson harry meghan': 1.0,\n",
       " 'tesla electric elon musk vehicles': 0.9431743025877409,\n",
       " 'gamestop fortnite intel stock': 0.21201869514778282,\n",
       " 'league manchester liverpool premier league': 1.0,\n",
       " 'mlb mets baseball dodgers': 0.3555204218364344,\n",
       " 'india england cricket zealand': 1.0,\n",
       " 'wwe ufc wrestlemania wrestling': 1.0,\n",
       " 'juventus milan roma napoli': 1.0,\n",
       " 'samsung galaxy s21 android samsung galaxy': 1.0,\n",
       " 'startup funding stimulus raises': 0.6165156598748913}"
      ]
     },
     "execution_count": 30,
     "metadata": {},
     "output_type": "execute_result"
    }
   ],
   "source": [
    "coherences"
   ]
  },
  {
   "cell_type": "code",
   "execution_count": null,
   "id": "69258f76",
   "metadata": {},
   "outputs": [],
   "source": []
  }
 ],
 "metadata": {
  "kernelspec": {
   "display_name": "Python 3",
   "language": "python",
   "name": "python3"
  },
  "language_info": {
   "codemirror_mode": {
    "name": "ipython",
    "version": 3
   },
   "file_extension": ".py",
   "mimetype": "text/x-python",
   "name": "python",
   "nbconvert_exporter": "python",
   "pygments_lexer": "ipython3",
   "version": "3.9.7"
  }
 },
 "nbformat": 4,
 "nbformat_minor": 5
}
